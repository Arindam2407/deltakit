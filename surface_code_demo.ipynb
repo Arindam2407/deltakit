{
 "cells": [
  {
   "cell_type": "markdown",
   "id": "8112ffee",
   "metadata": {},
   "source": [
    "# Surface Codes with `deltakit` and `crumpy`\n",
    "\n",
    "## Using `deltakit` with `crumpy`\n",
    "\n",
    "Let's generate and visualize a `RotatedPlanarCode` with `deltakit.explorer.codes`:"
   ]
  },
  {
   "cell_type": "code",
   "execution_count": null,
   "id": "48628ed2",
   "metadata": {},
   "outputs": [],
   "source": [
    "from deltakit.explorer.codes import RotatedPlanarCode, UnrotatedPlanarCode\n",
    "import ipywidgets\n",
    "\n",
    "def getPlanarCode(is_rotated: bool, w: int, h: int) -> RotatedPlanarCode | UnrotatedPlanarCode:\n",
    "    return RotatedPlanarCode(width=w, height=h) if is_rotated else UnrotatedPlanarCode(width=w, height=h)\n",
    "\n",
    "def savePlanarCodeImage(code: RotatedPlanarCode | UnrotatedPlanarCode) -> ipywidgets.Image:\n",
    "    filename = f\"./images/{'u' if isinstance(code, UnrotatedPlanarCode) else ''}rpc_{code.width}x{code.height}.png\"\n",
    "    code.draw_patch(filename)\n",
    "\n",
    "    file = open(filename, \"rb\")\n",
    "    image = file.read()\n",
    "    image_widg = ipywidgets.Image(\n",
    "        value=image,\n",
    "        format='png',\n",
    "        width=500\n",
    "    )\n",
    "    return image_widg\n",
    "\n",
    "code = getPlanarCode(is_rotated=True, w=2, h=2)\n",
    "image_widg = savePlanarCodeImage(code)\n",
    "image_widg"
   ]
  },
  {
   "cell_type": "markdown",
   "id": "50eede9d",
   "metadata": {},
   "source": [
    "We can create a memory experiment circuit from our generated planar code:"
   ]
  },
  {
   "cell_type": "code",
   "execution_count": null,
   "id": "735d2960",
   "metadata": {},
   "outputs": [],
   "source": [
    "from deltakit.explorer.codes import css_code_memory_circuit\n",
    "from deltakit.circuit.gates import PauliBasis\n",
    "\n",
    "deltakit_circuit = css_code_memory_circuit(code, num_rounds=1, logical_basis=PauliBasis.Z)\n",
    "deltakit_circuit"
   ]
  },
  {
   "cell_type": "markdown",
   "id": "75ad4f28",
   "metadata": {},
   "source": [
    "To use this circuit with `crumpy`'s `CircuitWidget`, we need to convert to a `stim` circuit:"
   ]
  },
  {
   "cell_type": "code",
   "execution_count": null,
   "id": "b772e6ee",
   "metadata": {},
   "outputs": [],
   "source": [
    "stim_circuit = deltakit_circuit.as_stim_circuit()\n",
    "stim_circuit"
   ]
  },
  {
   "cell_type": "markdown",
   "id": "b44ece61",
   "metadata": {},
   "source": [
    "This circuit can be displayed directly with `CircuitWidget.from_stim`:"
   ]
  },
  {
   "cell_type": "code",
   "execution_count": null,
   "id": "b66d9806",
   "metadata": {},
   "outputs": [],
   "source": [
    "from crumpy import CircuitWidget\n",
    "\n",
    "CircuitWidget.from_stim(stim_circuit)"
   ]
  },
  {
   "cell_type": "markdown",
   "id": "9d500763",
   "metadata": {},
   "source": [
    "Putting it all together in a function:"
   ]
  },
  {
   "cell_type": "code",
   "execution_count": null,
   "id": "edd3ca03",
   "metadata": {},
   "outputs": [],
   "source": [
    "import stim\n",
    "\n",
    "def stimSurfaceCode(is_rotated: bool, w: int, h: int) -> stim.Circuit:\n",
    "    code = getPlanarCode(is_rotated, w, h)\n",
    "    circuit = css_code_memory_circuit(code, num_rounds=1, logical_basis=PauliBasis.Z)\n",
    "    return circuit.as_stim_circuit()\n",
    "\n",
    "stim_circuit = stimSurfaceCode(True, 3, 3)\n",
    "circuit_widg = CircuitWidget.from_stim(stim_circuit)\n",
    "circuit_widg"
   ]
  },
  {
   "cell_type": "markdown",
   "id": "3e6ec839",
   "metadata": {},
   "source": [
    "Let's make things more interactive with some control widgets (from `ipywidgets`). We can create sliders that vary the width and height of the planar code we generate, and a checkbox for `UnrotatedPlanarCode` or `RotatedPlanarCode`:"
   ]
  },
  {
   "cell_type": "code",
   "execution_count": null,
   "id": "98f509a6",
   "metadata": {},
   "outputs": [],
   "source": [
    "# Some helper functions for creating sliders and checkboxes (we'll resuse these later)\n",
    "def WSlider():\n",
    "    return ipywidgets.IntSlider(description=\"Width\", value=3, min=2, max=5)\n",
    "def HSlider():\n",
    "    return ipywidgets.IntSlider(description=\"Height\", value=3, min=2, max=5)\n",
    "def Checkbox():\n",
    "    return ipywidgets.Checkbox(\n",
    "        value=True,\n",
    "        description='Rotated?',\n",
    "        disabled=False,\n",
    "    )\n",
    "\n",
    "# Create widgets\n",
    "w_slider = WSlider()\n",
    "h_slider = HSlider()\n",
    "checkbox = Checkbox()\n",
    "dynamic_circuit = CircuitWidget()\n",
    "\n",
    "dynamic_circuit_callback = lambda _: str(stimSurfaceCode(checkbox.value, w_slider.value, h_slider.value))\n",
    "\n",
    "# Link control widgets to the circuit\n",
    "ipywidgets.dlink((w_slider, \"value\"), (dynamic_circuit, \"stim\"), dynamic_circuit_callback)\n",
    "ipywidgets.dlink((h_slider, \"value\"), (dynamic_circuit, \"stim\"), dynamic_circuit_callback)\n",
    "ipywidgets.dlink((checkbox, \"value\"), (dynamic_circuit, \"stim\"), dynamic_circuit_callback)\n",
    "\n",
    "display(checkbox, w_slider, h_slider, dynamic_circuit)"
   ]
  },
  {
   "cell_type": "markdown",
   "id": "ea79dc06",
   "metadata": {},
   "source": [
    "## Pauli Propagation"
   ]
  },
  {
   "cell_type": "markdown",
   "id": "5b9f24c4",
   "metadata": {},
   "source": [
    "Let's explore another feature of `crumpy` and add a Pauli marker to a circuit:"
   ]
  },
  {
   "cell_type": "code",
   "execution_count": null,
   "id": "3434bb83",
   "metadata": {},
   "outputs": [],
   "source": [
    "stim_str_with_pauli = \"#!pragma MARKX(0) 0\\n\" + str(stimSurfaceCode(True, 2, 2))\n",
    "\n",
    "CircuitWidget(stim=stim_str_with_pauli)"
   ]
  },
  {
   "cell_type": "markdown",
   "id": "856bf3cc",
   "metadata": {},
   "source": [
    "Let's add some interactivity with a slider (to change which line the error is on) and some radio buttons (to select the error type):"
   ]
  },
  {
   "cell_type": "code",
   "execution_count": null,
   "id": "b664bc2b",
   "metadata": {},
   "outputs": [],
   "source": [
    "# Error slider and radio buttons\n",
    "def PauliSlider():\n",
    "    return ipywidgets.IntSlider(value=0, min=0, readout=False, orientation='vertical', layout=ipywidgets.Layout(height='120px'))\n",
    "def PauliSelect():\n",
    "    return ipywidgets.RadioButtons(\n",
    "        options=['X', 'Y', 'Z', 'none'],\n",
    "        default='X',\n",
    "        description='Pauli error:',\n",
    "        disabled=False\n",
    "    )\n",
    "\n",
    "# Returns a stim circuit with a specified Pauli marker added at the front\n",
    "def circuitWithError(stim_circuit: stim.Circuit, err: str, idx: int) -> str:\n",
    "    coords = list(stim_circuit.get_final_qubit_coordinates().items())\n",
    "    \n",
    "    # Sort qubits by coords in circuit line order (bottom to top on viz, for easy slider use)\n",
    "    coords.sort(key=lambda pair: (-pair[1][1], -pair[1][0]))\n",
    "    \n",
    "    return f\"\"\"\n",
    "    {'' if err == 'none' else f'#!pragma MARK{err}(0) {coords[min(idx, len(coords) - 1)][0]}'}\n",
    "    {stim_circuit}\n",
    "    \"\"\"\n",
    "\n",
    "# Update a slider's max value and color based on given Pauli err and num_lines in the circuit\n",
    "def updatePauliSlider(slider: ipywidgets.IntSlider, err: str, num_lines: int) -> None:\n",
    "    legend = {\n",
    "        'X':'red',\n",
    "        'Y':'green',\n",
    "        'Z':'blue',\n",
    "        'none':'black'\n",
    "    }\n",
    "    slider.style.handle_color = legend[err]\n",
    "\n",
    "    slider.max = num_lines - 1\n",
    "\n",
    "# Returns a 2x2 rotated surface code (as a stim str), with the given Pauli err on the idx-th circuit line\n",
    "def updateErrorCircuit(slider: ipywidgets.IntSlider, err: str, idx: int) -> str:\n",
    "    stim_circuit = stimSurfaceCode(True, 2, 2)\n",
    "    updatePauliSlider(slider, err, len(stim_circuit.get_final_qubit_coordinates()))\n",
    "    return circuitWithError(stim_circuit, err, idx)\n",
    "\n",
    "\n",
    "pauli_slider = PauliSlider()\n",
    "pauli_select = PauliSelect()\n",
    "circuit_with_error = CircuitWidget()\n",
    "\n",
    "circuit_with_error_callback = lambda _: updateErrorCircuit(pauli_slider, pauli_select.value, pauli_slider.value)\n",
    "\n",
    "# Link error slider and selector to circuit\n",
    "ipywidgets.dlink((pauli_select, 'value'), (circuit_with_error, 'stim'), circuit_with_error_callback)\n",
    "ipywidgets.dlink((pauli_slider, 'value'), (circuit_with_error, 'stim'), circuit_with_error_callback)\n",
    "\n",
    "ipywidgets.HBox([circuit_with_error, pauli_slider, pauli_select])\n"
   ]
  },
  {
   "cell_type": "markdown",
   "id": "aa795f3c",
   "metadata": {},
   "source": [
    "## Exploring Surface Codes\n",
    "\n",
    "Let's combine everything we've done so far into one interactive output with surface code controls *and* Pauli error controls:"
   ]
  },
  {
   "cell_type": "code",
   "execution_count": null,
   "id": "389561c5",
   "metadata": {},
   "outputs": [],
   "source": [
    "# Creates a surface code circuit with is_rotated, width, and height parameters that has the\n",
    "# given Pauli err at qubit idx\n",
    "def finalCircuit(is_rotated: bool, w: int, h: int, err: str, idx: int) -> str:\n",
    "    stim_circuit = stimSurfaceCode(is_rotated, w, h)\n",
    "    updatePauliSlider(final_pauli_slider, err, len(stim_circuit.get_final_qubit_coordinates()))\n",
    "    return circuitWithError(stim_circuit, err, idx)\n",
    "\n",
    "final_circuit = CircuitWidget()\n",
    "final_pauli_slider = PauliSlider()\n",
    "final_pauli_select = PauliSelect()\n",
    "final_w_slider = WSlider()\n",
    "final_h_slider = HSlider()\n",
    "final_checkbox = Checkbox()\n",
    "\n",
    "final_callback = lambda _: finalCircuit(is_rotated=final_checkbox.value, w=final_w_slider.value, h=final_h_slider.value, err=final_pauli_select.value, idx=final_pauli_slider.value)\n",
    "\n",
    "ipywidgets.dlink((final_pauli_select, 'value'), (final_circuit, 'stim'), final_callback)\n",
    "ipywidgets.dlink((final_pauli_slider, 'value'), (final_circuit, 'stim'), final_callback)\n",
    "ipywidgets.dlink((final_w_slider, 'value'), (final_circuit, 'stim'), final_callback)\n",
    "ipywidgets.dlink((final_h_slider, 'value'), (final_circuit, 'stim'), final_callback)\n",
    "ipywidgets.dlink((final_checkbox, 'value'), (final_circuit, 'stim'), final_callback)\n",
    "\n",
    "display(ipywidgets.Label(\"Planar code:\"), final_checkbox, final_w_slider, final_h_slider, ipywidgets.HBox([final_circuit, final_pauli_slider, final_pauli_select]))"
   ]
  },
  {
   "cell_type": "markdown",
   "id": "79cc07b2",
   "metadata": {},
   "source": [
    "Let's explore another interactive visualization. `draw_patch` will visualize the surface code patches of a given planar code :"
   ]
  },
  {
   "cell_type": "code",
   "execution_count": null,
   "id": "f221ef20",
   "metadata": {},
   "outputs": [],
   "source": [
    "from deltakit.explorer.codes import RotatedPlanarCode\n",
    "\n",
    "from snippet import draw_patch\n",
    "\n",
    "rp_code = RotatedPlanarCode(width=5, height=5)\n",
    "draw_patch(rp_code)"
   ]
  },
  {
   "cell_type": "markdown",
   "id": "15ab499e-9748-4221-8086-bed93b534cc1",
   "metadata": {},
   "source": [
    "Combining this with `CircuitWidget`, we can create an clickable surface code patch with a linked circuit visualization. Clicking a qubit on the interactive graph changes the Pauli error present at that qubit on the circuit diagram:"
   ]
  },
  {
   "cell_type": "code",
   "execution_count": null,
   "id": "9e4c03af",
   "metadata": {},
   "outputs": [],
   "source": [
    "from deltakit.explorer.codes import css_code_memory_circuit, RotatedPlanarCode, UnrotatedPlanarCode\n",
    "from deltakit.circuit import GateLayer, Circuit\n",
    "from deltakit.circuit.gates import PauliBasis\n",
    "import ipywidgets\n",
    "from plotly.callbacks import Points\n",
    "import stim\n",
    "\n",
    "from snippet import draw_patch\n",
    "from crumpy import CircuitWidget\n",
    "\n",
    "def interactivePlanarCode(planar_code: RotatedPlanarCode | UnrotatedPlanarCode) -> ipywidgets.widget:\n",
    "  # Returns the qubit at the specifed qubit coord, -1 if not found\n",
    "  def lookupQubitFromCoord(stim_circuit: stim.Circuit, coord: list[int, int]) -> int:\n",
    "    coords = list(stim_circuit.get_final_qubit_coordinates().items())\n",
    "    for idx, pair in coords:\n",
    "      if coord == pair:\n",
    "        return idx\n",
    "    return -1\n",
    "\n",
    "  # Takes a map of qubit coords to Pauli errors and applies them at the start of the given stim circuit.\n",
    "  # Returns the resulting stim circuit (str)\n",
    "  def circuitWithPaulisAt(stim_circuit: stim.Circuit, active_paulis: dict[tuple[int, int], str]) -> str:\n",
    "    stim_str = str(stim_circuit)\n",
    "\n",
    "    err_circuit = ''.join([\n",
    "      f\"#!pragma MARK{pauli.upper()}(0) {lookupQubitFromCoord(stim_circuit, list(coord))}\\n\"for coord, pauli in active_paulis.items()\n",
    "    ]) + stim_str\n",
    "    return err_circuit\n",
    "\n",
    "  # Given a circuit, CircuitWidget, dict of active paulis, and a new point, toggle the Pauli error at that point.\n",
    "  # Updates the given circuit_widg to reflect the added/removed Pauli.\n",
    "  def updateCicruitPaulis(points: Points, original_circuit: stim.Circuit, circuit_widg: CircuitWidget, active_paulis: dict[tuple[int, int], str]) -> None:\n",
    "    xs = points.xs\n",
    "    ys = points.ys\n",
    "\n",
    "    if not xs or not ys or len(xs) != len(ys):\n",
    "      return\n",
    "    \n",
    "    for point in zip(xs, ys):\n",
    "      if point in active_paulis:\n",
    "        if active_paulis[point] == 'Z':\n",
    "          del active_paulis[point]\n",
    "        else:\n",
    "          active_paulis[point] = chr(ord(active_paulis[point]) + 1)\n",
    "      else:\n",
    "        active_paulis[point] = 'X'\n",
    "\n",
    "    circuit_widg.stim = circuitWithPaulisAt(original_circuit, active_paulis)\n",
    "\n",
    "  # Create planar code memory circuit\n",
    "  deltakit_circuit = css_code_memory_circuit(\n",
    "      css_code=planar_code,\n",
    "      num_rounds=1,\n",
    "      logical_basis=PauliBasis.Z,\n",
    "  )\n",
    "  deltakit_circuit = Circuit([layer for layer in deltakit_circuit.layers if isinstance(layer, GateLayer)]) # strip detectors/observables\n",
    "\n",
    "  # Create CircuitWidget from the circuit\n",
    "  stim_circuit = deltakit_circuit.as_stim_circuit()\n",
    "\n",
    "  circuit_widg = CircuitWidget.from_stim(stim_circuit)\n",
    "\n",
    "  circuit_widg.layout.max_height = \"650px\"\n",
    "  circuit_widg.layout.max_width = \"650px\"\n",
    "  circuit_widg.layout.overflow = \"auto\"\n",
    "\n",
    "  # Register click callback that will update the Pauli markers on the CircuitWidget\n",
    "  active_paulis = dict()\n",
    "  qubitClickCallback = lambda points: updateCicruitPaulis(points, stim_circuit, circuit_widg, active_paulis)\n",
    "\n",
    "  plot_widg = draw_patch(planar_code, qubitClickCallback, qubitClickCallback, unrotated_code=isinstance(planar_code, UnrotatedPlanarCode))\n",
    "  return ipywidgets.HBox([plot_widg, circuit_widg], layout=ipywidgets.Layout(justify_content='center', align_items='flex-start', width='auto'))\n",
    "\n",
    "planar_code = RotatedPlanarCode(width=3, height=3)\n",
    "interactivePlanarCode(planar_code)"
   ]
  },
  {
   "cell_type": "markdown",
   "id": "c50e65dd-4005-4554-92c3-c402d8b2bab2",
   "metadata": {},
   "source": [
    "We can further add the width slider, height slider, and rotation checkbox used previous to vary the planar code parameters:"
   ]
  },
  {
   "cell_type": "code",
   "execution_count": null,
   "id": "d4a79c50-90cf-408b-8269-2738e239a5ee",
   "metadata": {},
   "outputs": [],
   "source": [
    "w_slider_interact = WSlider()\n",
    "w_slider_interact.continuous_update = False\n",
    "h_slider_interact = HSlider()\n",
    "h_slider_interact.continuous_update = False\n",
    "checkbox_interact = Checkbox()\n",
    "\n",
    "plot_output = ipywidgets.Output()\n",
    "\n",
    "def update_plot(change=None):\n",
    "    plot_output.clear_output(wait=True)\n",
    "    planar_code = getPlanarCode(is_rotated=checkbox_interact.value, w=w_slider_interact.value, h=h_slider_interact.value)\n",
    "    fig = interactivePlanarCode(planar_code)\n",
    "    with plot_output:\n",
    "        display(fig)\n",
    "\n",
    "\n",
    "w_slider_interact.observe(update_plot, names='value')\n",
    "h_slider_interact.observe(update_plot, names='value')\n",
    "checkbox_interact.observe(update_plot, names='value')\n",
    "\n",
    "update_plot()\n",
    "\n",
    "ipywidgets.VBox([checkbox_interact, w_slider_interact, h_slider_interact, plot_output], layout=ipywidgets.Layout(align_items='center'))"
   ]
  }
 ],
 "metadata": {
  "kernelspec": {
   "display_name": "deltakit",
   "language": "python",
   "name": "python3"
  },
  "language_info": {
   "codemirror_mode": {
    "name": "ipython",
    "version": 3
   },
   "file_extension": ".py",
   "mimetype": "text/x-python",
   "name": "python",
   "nbconvert_exporter": "python",
   "pygments_lexer": "ipython3",
   "version": "3.11.2"
  }
 },
 "nbformat": 4,
 "nbformat_minor": 5
}
