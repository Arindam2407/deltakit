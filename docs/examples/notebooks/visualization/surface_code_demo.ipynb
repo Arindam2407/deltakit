{
 "cells": [
  {
   "cell_type": "markdown",
   "id": "8112ffee",
   "metadata": {},
   "source": [
    "# Interactive Surface Codes with `deltakit` and `crumpy`\n",
    "\n",
    "In this notebook, we show how `deltakit` can be used to generate surface code memory experiments and various ways in which visualization packages like `crumpy` and `plotly` can be used to create interactive interfaces for surface code exploration. We show examples of generating planar codes with `deltakit.explorer.codes`, how to interactively visualize surface code experiment circuits with `crumpy` and `plotly`, and how to add Pauli error markers to those generated circuits to explore the error-detecting capabilities of surface codes.\n",
    "\n",
    "### Required Imports"
   ]
  },
  {
   "cell_type": "code",
   "execution_count": 1,
   "id": "6b9a8078-23b0-4062-a951-bd96208e82ad",
   "metadata": {},
   "outputs": [],
   "source": [
    "from deltakit.explorer.codes import RotatedPlanarCode, UnrotatedPlanarCode, css_code_memory_circuit\n",
    "from deltakit.circuit import GateLayer, Circuit\n",
    "from deltakit.circuit.gates import PauliBasis\n",
    "from crumpy import CircuitWidget\n",
    "from snippet import draw_patch, update_patch\n",
    "from plotly.callbacks import Points\n",
    "\n",
    "import ipywidgets\n",
    "import stim\n",
    "import traitlets"
   ]
  },
  {
   "cell_type": "markdown",
   "id": "e7aec500-fa32-45fc-bad7-77982a215348",
   "metadata": {},
   "source": [
    "## Using `deltakit` with `crumpy`\n",
    "\n",
    "To start, let's generate and visualize a 2 x 2 `RotatedPlanarCode` with `deltakit.explorer.codes`. The following will output a static image of a 2 x 2 rotated planar code patch (we'll come back to a similar visualization with more interactivity later):"
   ]
  },
  {
   "cell_type": "code",
   "execution_count": 2,
   "id": "48628ed2",
   "metadata": {},
   "outputs": [
    {
     "data": {
      "application/vnd.jupyter.widget-view+json": {
       "model_id": "f934875cc14c4ed0a6fa670bf98a3c09",
       "version_major": 2,
       "version_minor": 0
      },
      "text/plain": [
       "Image(value=b'\\x89PNG\\r\\n\\x1a\\n\\x00\\x00\\x00\\rIHDR\\x00\\x00\\x02\\x80\\x00\\x00\\x01\\xe0\\x08\\x06\\x00\\x00\\x005\\xd1\\xdc…"
      ]
     },
     "execution_count": 2,
     "metadata": {},
     "output_type": "execute_result"
    }
   ],
   "source": [
    "# Generate a deltakit planar code with the given width and height\n",
    "def getPlanarCode(is_rotated: bool, w: int, h: int) -> RotatedPlanarCode | UnrotatedPlanarCode:\n",
    "    return RotatedPlanarCode(width=w, height=h) if is_rotated else UnrotatedPlanarCode(width=w, height=h)\n",
    "\n",
    "# Creates a visual representation of the given planar code, saving it to ./images/ and returning a viewable widget\n",
    "def savePlanarCodeImage(code: RotatedPlanarCode | UnrotatedPlanarCode) -> ipywidgets.Image:\n",
    "    filename = f\"./images/{'u' if isinstance(code, UnrotatedPlanarCode) else ''}rpc_{code.width}x{code.height}.png\"\n",
    "    code.draw_patch(filename)\n",
    "\n",
    "    file = open(filename, \"rb\")\n",
    "    image = file.read()\n",
    "    image_widg = ipywidgets.Image(\n",
    "        value=image,\n",
    "        format=\"png\",\n",
    "        width=500\n",
    "    )\n",
    "    return image_widg\n",
    "\n",
    "code = getPlanarCode(is_rotated=True, w=2, h=2)\n",
    "img = savePlanarCodeImage(code)\n",
    "img"
   ]
  },
  {
   "cell_type": "markdown",
   "id": "50eede9d",
   "metadata": {},
   "source": [
    "With our 2 x 2 `RotatedPlanarCode`, we can create a memory experiment circuit using `css_code_memory_circuit`:"
   ]
  },
  {
   "cell_type": "code",
   "execution_count": 3,
   "id": "735d2960",
   "metadata": {},
   "outputs": [
    {
     "data": {
      "text/plain": [
       "Circuit([\n",
       "    GateLayer([\n",
       "        RZ(Qubit(Coord2D(3, 1)))\n",
       "        RZ(Qubit(Coord2D(1, 1)))\n",
       "        RZ(Qubit(Coord2D(3, 3)))\n",
       "        RZ(Qubit(Coord2D(1, 3)))\n",
       "        RX(Qubit(Coord2D(2, 0)))\n",
       "        RX(Qubit(Coord2D(2, 2)))\n",
       "        RX(Qubit(Coord2D(2, 4)))\n",
       "    ])\n",
       "    GateLayer([\n",
       "        I(Qubit(Coord2D(1, 1)))\n",
       "        I(Qubit(Coord2D(1, 3)))\n",
       "        I(Qubit(Coord2D(3, 1)))\n",
       "        I(Qubit(Coord2D(3, 3)))\n",
       "    ])\n",
       "    GateLayer([\n",
       "        CZ(control=Qubit(Coord2D(2, 0)), target=Qubit(Coord2D(1, 1)))\n",
       "        CX(control=Qubit(Coord2D(2, 2)), target=Qubit(Coord2D(1, 3)))\n",
       "    ])\n",
       "    GateLayer([\n",
       "        CZ(control=Qubit(Coord2D(2, 0)), target=Qubit(Coord2D(3, 1)))\n",
       "        CX(control=Qubit(Coord2D(2, 2)), target=Qubit(Coord2D(1, 1)))\n",
       "    ])\n",
       "    GateLayer([\n",
       "        CX(control=Qubit(Coord2D(2, 2)), target=Qubit(Coord2D(3, 3)))\n",
       "        CZ(control=Qubit(Coord2D(2, 4)), target=Qubit(Coord2D(1, 3)))\n",
       "    ])\n",
       "    GateLayer([\n",
       "        CX(control=Qubit(Coord2D(2, 2)), target=Qubit(Coord2D(3, 1)))\n",
       "        CZ(control=Qubit(Coord2D(2, 4)), target=Qubit(Coord2D(3, 3)))\n",
       "    ])\n",
       "    GateLayer([\n",
       "        MX(Qubit(Coord2D(2, 0)), probability=0.0)\n",
       "        MX(Qubit(Coord2D(2, 2)), probability=0.0)\n",
       "        MX(Qubit(Coord2D(2, 4)), probability=0.0)\n",
       "        MZ(Qubit(Coord2D(3, 1)), probability=0.0)\n",
       "        MZ(Qubit(Coord2D(1, 1)), probability=0.0)\n",
       "        MZ(Qubit(Coord2D(3, 3)), probability=0.0)\n",
       "        MZ(Qubit(Coord2D(1, 3)), probability=0.0)\n",
       "    ])\n",
       "    Detector([MeasurementRecord(-7)], coordinate=Coordinate(np.int64(2), np.int64(0), 0))\n",
       "    Detector([MeasurementRecord(-5)], coordinate=Coordinate(np.int64(2), np.int64(4), 0))\n",
       "    ShiftCoordinates(Coordinate(0, 0, 1))\n",
       "    Observable([MeasurementRecord(-3), MeasurementRecord(-1)], index=0)\n",
       "    Detector([MeasurementRecord(-7), MeasurementRecord(-4), MeasurementRecord(-3)], coordinate=Coordinate(np.int64(2), np.int64(0), 0))\n",
       "    Detector([MeasurementRecord(-5), MeasurementRecord(-1), MeasurementRecord(-2)], coordinate=Coordinate(np.int64(2), np.int64(4), 0))\n",
       "    ShiftCoordinates(Coordinate(0, 0, 1))\n",
       "], iterations=1)"
      ]
     },
     "execution_count": 3,
     "metadata": {},
     "output_type": "execute_result"
    }
   ],
   "source": [
    "deltakit_circuit = css_code_memory_circuit(code, num_rounds=1, logical_basis=PauliBasis.Z)\n",
    "deltakit_circuit"
   ]
  },
  {
   "cell_type": "markdown",
   "id": "75ad4f28",
   "metadata": {},
   "source": [
    "To visualize this circuit with `crumpy`'s `CircuitWidget`, we first convert our `deltakit` circuit to a `stim` circuit:"
   ]
  },
  {
   "cell_type": "code",
   "execution_count": 4,
   "id": "b772e6ee",
   "metadata": {},
   "outputs": [
    {
     "data": {
      "text/plain": [
       "stim.Circuit('''\n",
       "    QUBIT_COORDS(1, 3) 0\n",
       "    QUBIT_COORDS(2, 4) 1\n",
       "    QUBIT_COORDS(3, 3) 2\n",
       "    QUBIT_COORDS(2, 2) 3\n",
       "    QUBIT_COORDS(3, 1) 4\n",
       "    QUBIT_COORDS(1, 1) 5\n",
       "    QUBIT_COORDS(2, 0) 6\n",
       "    R 4 5 2 0\n",
       "    RX 6 3 1\n",
       "    TICK\n",
       "    I 5 0 4 2\n",
       "    TICK\n",
       "    CZ 6 5\n",
       "    CX 3 0\n",
       "    TICK\n",
       "    CZ 6 4\n",
       "    CX 3 5\n",
       "    TICK\n",
       "    CX 3 2\n",
       "    CZ 1 0\n",
       "    TICK\n",
       "    CX 3 4\n",
       "    CZ 1 2\n",
       "    TICK\n",
       "    MX 6 3 1\n",
       "    M 4 5 2 0\n",
       "    DETECTOR(2, 0, 0) rec[-7]\n",
       "    DETECTOR(2, 4, 0) rec[-5]\n",
       "    SHIFT_COORDS(0, 0, 1)\n",
       "    OBSERVABLE_INCLUDE(0) rec[-3] rec[-1]\n",
       "    DETECTOR(2, 0, 0) rec[-7] rec[-4] rec[-3]\n",
       "    DETECTOR(2, 4, 0) rec[-5] rec[-1] rec[-2]\n",
       "    SHIFT_COORDS(0, 0, 1)\n",
       "''')"
      ]
     },
     "execution_count": 4,
     "metadata": {},
     "output_type": "execute_result"
    }
   ],
   "source": [
    "stim_circuit = deltakit_circuit.as_stim_circuit()\n",
    "stim_circuit"
   ]
  },
  {
   "cell_type": "markdown",
   "id": "b44ece61",
   "metadata": {},
   "source": [
    "`stim.Circuit`s can be displayed directly with `CircuitWidget.from_stim`:"
   ]
  },
  {
   "cell_type": "code",
   "execution_count": 5,
   "id": "b66d9806",
   "metadata": {},
   "outputs": [
    {
     "data": {
      "application/vnd.jupyter.widget-view+json": {
       "model_id": "afa20b219a5d404cadcab45f8362b1e9",
       "version_major": 2,
       "version_minor": 1
      },
      "text/plain": [
       "CircuitWidget(stim='QUBIT_COORDS(1, 3) 0\\nQUBIT_COORDS(2, 4) 1\\nQUBIT_COORDS(3, 3) 2\\nQUBIT_COORDS(2, 2) 3\\nQU…"
      ]
     },
     "execution_count": 5,
     "metadata": {},
     "output_type": "execute_result"
    }
   ],
   "source": [
    "CircuitWidget.from_stim(stim_circuit)"
   ]
  },
  {
   "cell_type": "markdown",
   "id": "9d500763",
   "metadata": {},
   "source": [
    "Let's streamline this process of generating `stim` from a planar code specification. `stimSurfaceCode` lets us generate a (`crumpy`-compatible) `stim` circuit for a rotated/unrotated planar code with a given `w` and `h`. Note that we also strip away any non-gate layers just to reduce visual clutter on the circuit diagrams:"
   ]
  },
  {
   "cell_type": "code",
   "execution_count": 6,
   "id": "edd3ca03",
   "metadata": {},
   "outputs": [
    {
     "data": {
      "application/vnd.jupyter.widget-view+json": {
       "model_id": "59f279a321864c339ffb1f5a034bfc2c",
       "version_major": 2,
       "version_minor": 1
      },
      "text/plain": [
       "CircuitWidget(stim='QUBIT_COORDS(2, 4) 0\\nQUBIT_COORDS(4, 0) 1\\nQUBIT_COORDS(1, 5) 2\\nQUBIT_COORDS(3, 1) 3\\nQU…"
      ]
     },
     "execution_count": 6,
     "metadata": {},
     "output_type": "execute_result"
    }
   ],
   "source": [
    "# Generates a stim.Circuit representing a memory experiment on a planar code\n",
    "def stimSurfaceCode(is_rotated: bool, w: int, h: int) -> stim.Circuit:\n",
    "    code = getPlanarCode(is_rotated, w, h)\n",
    "    circuit = css_code_memory_circuit(code, num_rounds=1, logical_basis=PauliBasis.Z)\n",
    "    circuit = Circuit([\n",
    "            layer for layer in circuit.layers \n",
    "            if isinstance(layer, GateLayer)\n",
    "        ])\n",
    "    return circuit.as_stim_circuit()\n",
    "\n",
    "stim_circuit = stimSurfaceCode(True, 3, 3)\n",
    "CircuitWidget.from_stim(stim_circuit)"
   ]
  },
  {
   "cell_type": "markdown",
   "id": "3e6ec839",
   "metadata": {},
   "source": [
    "Now that we have a way to easily generate the `stim` circuit for a planar code memory experiment, we can make things more interactive with some control widgets (from `ipywidgets`). Let's add some sliders that vary the width and height of the planar code we use, and a checkbox for `UnrotatedPlanarCode` or `RotatedPlanarCode`:"
   ]
  },
  {
   "cell_type": "code",
   "execution_count": 7,
   "id": "98f509a6",
   "metadata": {},
   "outputs": [
    {
     "data": {
      "application/vnd.jupyter.widget-view+json": {
       "model_id": "e0c7712e74874f99a9319e827b15a4e1",
       "version_major": 2,
       "version_minor": 0
      },
      "text/plain": [
       "Label(value='Planar code settings:')"
      ]
     },
     "metadata": {},
     "output_type": "display_data"
    },
    {
     "data": {
      "application/vnd.jupyter.widget-view+json": {
       "model_id": "b4c9ec9caed64c678c5557eebe0f5f8f",
       "version_major": 2,
       "version_minor": 0
      },
      "text/plain": [
       "Checkbox(value=True, description='Rotated?')"
      ]
     },
     "metadata": {},
     "output_type": "display_data"
    },
    {
     "data": {
      "application/vnd.jupyter.widget-view+json": {
       "model_id": "85487a8c8eb249e881e0826942931f67",
       "version_major": 2,
       "version_minor": 0
      },
      "text/plain": [
       "SliderWithButtons(children=(HBox(children=(Button(description='–', layout=Layout(width='30px'), style=ButtonSt…"
      ]
     },
     "metadata": {},
     "output_type": "display_data"
    },
    {
     "data": {
      "application/vnd.jupyter.widget-view+json": {
       "model_id": "f9ff09e6d6a84c18b6c3e5e7d1dcfa8a",
       "version_major": 2,
       "version_minor": 0
      },
      "text/plain": [
       "SliderWithButtons(children=(HBox(children=(Button(description='–', layout=Layout(width='30px'), style=ButtonSt…"
      ]
     },
     "metadata": {},
     "output_type": "display_data"
    },
    {
     "data": {
      "application/vnd.jupyter.widget-view+json": {
       "model_id": "9bab21e889864594bc64eb36d4e6f3b2",
       "version_major": 2,
       "version_minor": 1
      },
      "text/plain": [
       "CircuitWidget(stim='QUBIT_COORDS(2, 4) 0\\nQUBIT_COORDS(4, 0) 1\\nQUBIT_COORDS(1, 5) 2\\nQUBIT_COORDS(3, 1) 3\\nQU…"
      ]
     },
     "metadata": {},
     "output_type": "display_data"
    }
   ],
   "source": [
    "# An ipywidgets.IntSlider with with '+' and '-' buttons at the ends\n",
    "class SliderWithButtons(ipywidgets.Box):\n",
    "    value = traitlets.Int()\n",
    "\n",
    "    def __init__(self, description: str=\"Value\", value: int=0, min: int=0, max: int=10, step: int=1, orientation: str=\"horizontal\", readout: bool=True):\n",
    "        # Internal widgets\n",
    "        self.slider = ipywidgets.IntSlider(\n",
    "            description=description,\n",
    "            value=value,\n",
    "            min=min,\n",
    "            max=max,\n",
    "            step=step,\n",
    "            orientation=orientation,\n",
    "            readout=readout,\n",
    "            style={\"description_width\": \"60px\"}\n",
    "        )\n",
    "        self.minus = ipywidgets.Button(description=\"–\", layout=ipywidgets.Layout(width=\"30px\"))\n",
    "        self.plus = ipywidgets.Button(description=\"+\", layout=ipywidgets.Layout(width=\"30px\"))\n",
    "\n",
    "        # Arrange children\n",
    "        if orientation == \"vertical\":\n",
    "            container = ipywidgets.VBox([self.plus, self.slider, self.minus], layout=ipywidgets.Layout(align_items=\"center\"))\n",
    "        else:\n",
    "            container = ipywidgets.HBox([self.minus, self.slider, self.plus])\n",
    "        super().__init__(children=[container])\n",
    "\n",
    "        # Link .value trait\n",
    "        ipywidgets.link((self.slider, \"value\"), (self, \"value\"))\n",
    "\n",
    "        # Button click events\n",
    "        self.plus.on_click(self._on_plus)\n",
    "        self.minus.on_click(self._on_minus)\n",
    "\n",
    "    def _on_plus(self, _):\n",
    "        if self.slider.value < self.slider.max:\n",
    "            self.slider.value += self.slider.step\n",
    "\n",
    "    def _on_minus(self, _):\n",
    "        if self.slider.value > self.slider.min:\n",
    "            self.slider.value -= self.slider.step\n",
    "\n",
    "# Helpers for creating planar code config widgets (these will be reused later)\n",
    "def WSlider():\n",
    "    return SliderWithButtons(description=\"Width\", value=3, min=2, max=5)\n",
    "def HSlider():\n",
    "    return SliderWithButtons(description=\"Height\", value=3, min=2, max=5)\n",
    "def Checkbox():\n",
    "    return ipywidgets.Checkbox(\n",
    "        value=True,\n",
    "        description=\"Rotated?\",\n",
    "        disabled=False,\n",
    "    )\n",
    "\n",
    "# Create planar code config widgets + circuit widget\n",
    "w_slider = WSlider()\n",
    "h_slider = HSlider()\n",
    "checkbox = Checkbox()\n",
    "dynamic_circuit = CircuitWidget()\n",
    "\n",
    "# Link config widgets to the circuit\n",
    "dynamic_circuit_callback = lambda _: str(stimSurfaceCode(checkbox.value, w_slider.value, h_slider.value))\n",
    "ipywidgets.dlink((w_slider, \"value\"), (dynamic_circuit, \"stim\"), dynamic_circuit_callback)\n",
    "ipywidgets.dlink((h_slider, \"value\"), (dynamic_circuit, \"stim\"), dynamic_circuit_callback)\n",
    "ipywidgets.dlink((checkbox, \"value\"), (dynamic_circuit, \"stim\"), dynamic_circuit_callback)\n",
    "\n",
    "display(ipywidgets.Label(\"Planar code settings:\"), checkbox, w_slider, h_slider, dynamic_circuit)"
   ]
  },
  {
   "cell_type": "markdown",
   "id": "ea79dc06",
   "metadata": {},
   "source": [
    "## Pauli Propagation"
   ]
  },
  {
   "cell_type": "markdown",
   "id": "5b9f24c4",
   "metadata": {},
   "source": [
    "Using our `stimSurfaceCode` circuit generation function, let's explore another feature of `crumpy` and add a Pauli marker to a circuit:"
   ]
  },
  {
   "cell_type": "code",
   "execution_count": 8,
   "id": "3434bb83",
   "metadata": {},
   "outputs": [
    {
     "data": {
      "application/vnd.jupyter.widget-view+json": {
       "model_id": "e121f6e86d05497cab7adcd603c2c3be",
       "version_major": 2,
       "version_minor": 1
      },
      "text/plain": [
       "CircuitWidget(stim='#!pragma MARKX(0) 0\\nQUBIT_COORDS(1, 3) 0\\nQUBIT_COORDS(2, 4) 1\\nQUBIT_COORDS(3, 3) 2\\nQUB…"
      ]
     },
     "execution_count": 8,
     "metadata": {},
     "output_type": "execute_result"
    }
   ],
   "source": [
    "# Prepend a Pauli X marker on qubit 0 (based on qubit coords, idx 0 is (1, 3))\n",
    "stim_str_with_pauli = \"#!pragma MARKX(0) 0\\n\" + str(stimSurfaceCode(True, 2, 2))\n",
    "\n",
    "CircuitWidget(stim=stim_str_with_pauli)"
   ]
  },
  {
   "cell_type": "markdown",
   "id": "856bf3cc",
   "metadata": {},
   "source": [
    "We can add some interactivity with a slider (to change which qubit line the Pauli marker/error is on) and some radio buttons (to select the Pauli type):"
   ]
  },
  {
   "cell_type": "code",
   "execution_count": 9,
   "id": "b664bc2b",
   "metadata": {},
   "outputs": [
    {
     "data": {
      "application/vnd.jupyter.widget-view+json": {
       "model_id": "6551eb2b9b47471c87aaa8b2f1912e10",
       "version_major": 2,
       "version_minor": 0
      },
      "text/plain": [
       "HBox(children=(CircuitWidget(stim='#!pragma MARKX(0) 3\\nQUBIT_COORDS(1, 3) 0\\nQUBIT_COORDS(2, 4) 1\\nQUBIT_COOR…"
      ]
     },
     "execution_count": 9,
     "metadata": {},
     "output_type": "execute_result"
    }
   ],
   "source": [
    "# Error slider and radio buttons\n",
    "def PauliSlider():\n",
    "    return SliderWithButtons(description=\"\", value=3, min=0, orientation=\"vertical\", readout=False)\n",
    "def PauliSelect():\n",
    "    return ipywidgets.RadioButtons(\n",
    "        options=[\"X\", \"Y\", \"Z\", \"none\"],\n",
    "        default=\"X\",\n",
    "        description=\"Pauli error:\",\n",
    "        disabled=False\n",
    "    )\n",
    "\n",
    "# Returns a stim circuit with a specified Pauli err marker added at the front\n",
    "# (on the idx-th circuit line from bottom, based on the qubit coords defined in stim_circuit)\n",
    "def circuitWithError(stim_circuit: stim.Circuit, err: str, idx: int) -> str:\n",
    "    coords = list(stim_circuit.get_final_qubit_coordinates().items())\n",
    "    \n",
    "    # Sort qubits by coords in circuit line order (bottom to top on viz, for easy slider use)\n",
    "    coords.sort(key=lambda pair: (-pair[1][1], -pair[1][0]))\n",
    "    \n",
    "    return \"\" if err == \"none\" else f\"#!pragma MARK{err}(0) {coords[min(idx, len(coords) - 1)][0]}\\n\" + str(stim_circuit)\n",
    "\n",
    "# Update a slider's max value and color based on given Pauli err and num_lines in the circuit\n",
    "def updatePauliSlider(slider_w_buttons: SliderWithButtons, err: str, num_lines: int) -> None:\n",
    "    legend = {\n",
    "        \"X\":\"red\",\n",
    "        \"Y\":\"green\",\n",
    "        \"Z\":\"blue\",\n",
    "        \"none\":\"black\"\n",
    "    }\n",
    "    slider_w_buttons.slider.style.handle_color = legend[err]\n",
    "\n",
    "    slider_w_buttons.slider.max = num_lines - 1\n",
    "\n",
    "# Returns a 2x2 rotated surface code (as a stim str), with the given Pauli err on the idx-th circuit line (from bottom)\n",
    "def updateErrorCircuit(slider_w_buttons: SliderWithButtons, err: str, idx: int) -> str:\n",
    "    stim_circuit = stimSurfaceCode(True, 2, 2)\n",
    "    updatePauliSlider(slider_w_buttons, err, len(stim_circuit.get_final_qubit_coordinates()))\n",
    "    return circuitWithError(stim_circuit, err, idx)\n",
    "\n",
    "# Create error config widgets + circuit widget\n",
    "pauli_slider = PauliSlider()\n",
    "pauli_select = PauliSelect()\n",
    "circuit_with_error = CircuitWidget()\n",
    "\n",
    "# Link error slider and selector to circuit\n",
    "circuit_with_error_callback = lambda _: updateErrorCircuit(pauli_slider, pauli_select.value, pauli_slider.value)\n",
    "ipywidgets.dlink((pauli_select, \"value\"), (circuit_with_error, \"stim\"), circuit_with_error_callback)\n",
    "ipywidgets.dlink((pauli_slider, \"value\"), (circuit_with_error, \"stim\"), circuit_with_error_callback)\n",
    "\n",
    "ipywidgets.HBox([circuit_with_error, pauli_slider, pauli_select])"
   ]
  },
  {
   "cell_type": "markdown",
   "id": "aa795f3c",
   "metadata": {},
   "source": [
    "## Exploring Surface Codes\n",
    "\n",
    "Combining what we've done in the previous sections, we can create a single interactive output with planar code controls *and* Pauli error controls:"
   ]
  },
  {
   "cell_type": "code",
   "execution_count": 10,
   "id": "389561c5",
   "metadata": {},
   "outputs": [
    {
     "data": {
      "application/vnd.jupyter.widget-view+json": {
       "model_id": "a1763c066dd04ce494fcdaaaab787d6f",
       "version_major": 2,
       "version_minor": 0
      },
      "text/plain": [
       "Label(value='Planar code settings:')"
      ]
     },
     "metadata": {},
     "output_type": "display_data"
    },
    {
     "data": {
      "application/vnd.jupyter.widget-view+json": {
       "model_id": "bb3271bbb9a74f6aae36a51c01712c1a",
       "version_major": 2,
       "version_minor": 0
      },
      "text/plain": [
       "Checkbox(value=True, description='Rotated?')"
      ]
     },
     "metadata": {},
     "output_type": "display_data"
    },
    {
     "data": {
      "application/vnd.jupyter.widget-view+json": {
       "model_id": "93866a9875954a7f98e052659c63366a",
       "version_major": 2,
       "version_minor": 0
      },
      "text/plain": [
       "SliderWithButtons(children=(HBox(children=(Button(description='–', layout=Layout(width='30px'), style=ButtonSt…"
      ]
     },
     "metadata": {},
     "output_type": "display_data"
    },
    {
     "data": {
      "application/vnd.jupyter.widget-view+json": {
       "model_id": "4c2d8f3d50e5457fae5da441dd33679f",
       "version_major": 2,
       "version_minor": 0
      },
      "text/plain": [
       "SliderWithButtons(children=(HBox(children=(Button(description='–', layout=Layout(width='30px'), style=ButtonSt…"
      ]
     },
     "metadata": {},
     "output_type": "display_data"
    },
    {
     "data": {
      "application/vnd.jupyter.widget-view+json": {
       "model_id": "ee84d55cefee4c24b37de499ce597bec",
       "version_major": 2,
       "version_minor": 0
      },
      "text/plain": [
       "HBox(children=(CircuitWidget(stim='#!pragma MARKX(0) 2\\nQUBIT_COORDS(2, 4) 0\\nQUBIT_COORDS(4, 0) 1\\nQUBIT_COOR…"
      ]
     },
     "metadata": {},
     "output_type": "display_data"
    }
   ],
   "source": [
    "# Creates a planar code memory experiment circuit with the given is_rotated, width, and height parameters\n",
    "# that has the given Pauli err marker on the idx-th circuit line (from bottom)\n",
    "def finalCircuit(slider_w_buttons: SliderWithButtons, is_rotated: bool, w: int, h: int, err: str, idx: int) -> str:\n",
    "    stim_circuit = stimSurfaceCode(is_rotated, w, h)\n",
    "    updatePauliSlider(slider_w_buttons, err, len(stim_circuit.get_final_qubit_coordinates()))\n",
    "    return circuitWithError(stim_circuit, err, idx)\n",
    "\n",
    "# Planar code config widgets + pauli error config widgets + a circuit widget\n",
    "final_circuit = CircuitWidget()\n",
    "final_pauli_slider = PauliSlider()\n",
    "final_pauli_select = PauliSelect()\n",
    "final_w_slider = WSlider()\n",
    "final_h_slider = HSlider()\n",
    "final_checkbox = Checkbox()\n",
    "\n",
    "# Link all of the config widgets to the circuit widget\n",
    "final_callback = lambda _: finalCircuit(slider_w_buttons=final_pauli_slider, is_rotated=final_checkbox.value, w=final_w_slider.value, h=final_h_slider.value, err=final_pauli_select.value, idx=final_pauli_slider.value)\n",
    "ipywidgets.dlink((final_pauli_select, \"value\"), (final_circuit, \"stim\"), final_callback)\n",
    "ipywidgets.dlink((final_pauli_slider, \"value\"), (final_circuit, \"stim\"), final_callback)\n",
    "ipywidgets.dlink((final_w_slider, \"value\"), (final_circuit, \"stim\"), final_callback)\n",
    "ipywidgets.dlink((final_h_slider, \"value\"), (final_circuit, \"stim\"), final_callback)\n",
    "ipywidgets.dlink((final_checkbox, \"value\"), (final_circuit, \"stim\"), final_callback)\n",
    "\n",
    "display(ipywidgets.Label(\"Planar code settings:\"), final_checkbox, final_w_slider, final_h_slider, ipywidgets.HBox([final_circuit, final_pauli_slider, final_pauli_select]))"
   ]
  },
  {
   "cell_type": "markdown",
   "id": "79cc07b2",
   "metadata": {},
   "source": [
    "### Interactivity with `plotly`\n",
    "\n",
    "Let's explore another interactive visualization. `draw_patch` uses `plotly` to visualize a patch of a given surface code, similar to the static visualization at the beginning of this notebook. Clicking on qubits on the interactive plot will also cycle between Pauli errors on that qubits (none → Pauli X (red) → Pauli Y (green) → Pauli Z (blue)):"
   ]
  },
  {
   "cell_type": "code",
   "execution_count": 11,
   "id": "f221ef20",
   "metadata": {},
   "outputs": [
    {
     "data": {
      "application/vnd.jupyter.widget-view+json": {
       "model_id": "6b69bfcf5d8a4976aa9ef4799649ee77",
       "version_major": 2,
       "version_minor": 0
      },
      "text/plain": [
       "FigureWidget({\n",
       "    'data': [{'fill': 'toself',\n",
       "              'fillcolor': '#d3d1c0',\n",
       "              'hovertemplate': 'X Stabilizer<extra></extra>',\n",
       "              'line': {'color': '#d3d1c0', 'width': 1},\n",
       "              'mode': 'lines',\n",
       "              'name': 'X Stabilizer',\n",
       "              'showlegend': False,\n",
       "              'type': 'scatter',\n",
       "              'uid': '6bdd2922-e247-4be6-a382-f147736e0c92',\n",
       "              'x': [9, 9, 10, 9],\n",
       "              'y': [9, 7, 8, 9]},\n",
       "             {'fill': 'toself',\n",
       "              'fillcolor': '#d3d1c0',\n",
       "              'hovertemplate': 'X Stabilizer<extra></extra>',\n",
       "              'line': {'color': '#d3d1c0', 'width': 1},\n",
       "              'mode': 'lines',\n",
       "              'name': 'X Stabilizer',\n",
       "              'showlegend': False,\n",
       "              'type': 'scatter',\n",
       "              'uid': '8d8366dc-a386-4801-8852-bb861ec2e989',\n",
       "              'x': [9, 9, 10, 9],\n",
       "              'y': [5, 3, 4, 5]},\n",
       "             {'fill': 'toself',\n",
       "              'fillcolor': '#3ccbda',\n",
       "              'hovertemplate': 'Z Stabilizer<extra></extra>',\n",
       "              'line': {'color': '#3ccbda', 'width': 1},\n",
       "              'mode': 'lines',\n",
       "              'name': 'Z Stabilizer',\n",
       "              'showlegend': False,\n",
       "              'type': 'scatter',\n",
       "              'uid': '8f909443-dedd-4402-a69a-972df2fc6a56',\n",
       "              'x': [3, 5, 4, 3],\n",
       "              'y': [1, 1, 0, 1]},\n",
       "             {'fill': 'toself',\n",
       "              'fillcolor': '#3ccbda',\n",
       "              'hovertemplate': 'Z Stabilizer<extra></extra>',\n",
       "              'line': {'color': '#3ccbda', 'width': 1},\n",
       "              'mode': 'lines',\n",
       "              'name': 'Z Stabilizer',\n",
       "              'showlegend': False,\n",
       "              'type': 'scatter',\n",
       "              'uid': '51962144-eb26-4cd1-b791-0e718e4c7c6d',\n",
       "              'x': [7, 9, 8, 7],\n",
       "              'y': [1, 1, 0, 1]},\n",
       "             {'fill': 'toself',\n",
       "              'fillcolor': '#d3d1c0',\n",
       "              'hovertemplate': 'X Stabilizer<extra></extra>',\n",
       "              'line': {'color': '#d3d1c0', 'width': 1},\n",
       "              'mode': 'lines',\n",
       "              'name': 'X Stabilizer',\n",
       "              'showlegend': False,\n",
       "              'type': 'scatter',\n",
       "              'uid': '27ce5b11-805b-47da-b2f1-16677fa415af',\n",
       "              'x': [1, 1, 3, 3, 1],\n",
       "              'y': [5, 3, 3, 5, 5]},\n",
       "             {'fill': 'toself',\n",
       "              'fillcolor': '#d3d1c0',\n",
       "              'hovertemplate': 'X Stabilizer<extra></extra>',\n",
       "              'line': {'color': '#d3d1c0', 'width': 1},\n",
       "              'mode': 'lines',\n",
       "              'name': 'X Stabilizer',\n",
       "              'showlegend': False,\n",
       "              'type': 'scatter',\n",
       "              'uid': '5798ca1e-1583-4761-a8f3-568ef4299c91',\n",
       "              'x': [5, 5, 7, 7, 5],\n",
       "              'y': [9, 7, 7, 9, 9]},\n",
       "             {'fill': 'toself',\n",
       "              'fillcolor': '#d3d1c0',\n",
       "              'hovertemplate': 'X Stabilizer<extra></extra>',\n",
       "              'line': {'color': '#d3d1c0', 'width': 1},\n",
       "              'mode': 'lines',\n",
       "              'name': 'X Stabilizer',\n",
       "              'showlegend': False,\n",
       "              'type': 'scatter',\n",
       "              'uid': 'b6e037f9-e68c-4842-97ea-2457dc46672f',\n",
       "              'x': [3, 3, 5, 5, 3],\n",
       "              'y': [7, 5, 5, 7, 7]},\n",
       "             {'fill': 'toself',\n",
       "              'fillcolor': '#d3d1c0',\n",
       "              'hovertemplate': 'X Stabilizer<extra></extra>',\n",
       "              'line': {'color': '#d3d1c0', 'width': 1},\n",
       "              'mode': 'lines',\n",
       "              'name': 'X Stabilizer',\n",
       "              'showlegend': False,\n",
       "              'type': 'scatter',\n",
       "              'uid': '36461cdd-2341-489d-8139-ed49797ebfcf',\n",
       "              'x': [5, 5, 7, 7, 5],\n",
       "              'y': [5, 3, 3, 5, 5]},\n",
       "             {'fill': 'toself',\n",
       "              'fillcolor': '#d3d1c0',\n",
       "              'hovertemplate': 'X Stabilizer<extra></extra>',\n",
       "              'line': {'color': '#d3d1c0', 'width': 1},\n",
       "              'mode': 'lines',\n",
       "              'name': 'X Stabilizer',\n",
       "              'showlegend': False,\n",
       "              'type': 'scatter',\n",
       "              'uid': '2034826a-98dd-4deb-9129-8acc4d245cad',\n",
       "              'x': [3, 3, 5, 5, 3],\n",
       "              'y': [3, 1, 1, 3, 3]},\n",
       "             {'fill': 'toself',\n",
       "              'fillcolor': '#d3d1c0',\n",
       "              'hovertemplate': 'X Stabilizer<extra></extra>',\n",
       "              'line': {'color': '#d3d1c0', 'width': 1},\n",
       "              'mode': 'lines',\n",
       "              'name': 'X Stabilizer',\n",
       "              'showlegend': False,\n",
       "              'type': 'scatter',\n",
       "              'uid': '320f7d12-5da4-4624-8f48-5f0ff377ebf1',\n",
       "              'x': [1, 1, 0, 1],\n",
       "              'y': [7, 5, 6, 7]},\n",
       "             {'fill': 'toself',\n",
       "              'fillcolor': '#d3d1c0',\n",
       "              'hovertemplate': 'X Stabilizer<extra></extra>',\n",
       "              'line': {'color': '#d3d1c0', 'width': 1},\n",
       "              'mode': 'lines',\n",
       "              'name': 'X Stabilizer',\n",
       "              'showlegend': False,\n",
       "              'type': 'scatter',\n",
       "              'uid': '3f425c0e-9876-45aa-9d60-fb9dc5de1253',\n",
       "              'x': [1, 1, 0, 1],\n",
       "              'y': [3, 1, 2, 3]},\n",
       "             {'fill': 'toself',\n",
       "              'fillcolor': '#d3d1c0',\n",
       "              'hovertemplate': 'X Stabilizer<extra></extra>',\n",
       "              'line': {'color': '#d3d1c0', 'width': 1},\n",
       "              'mode': 'lines',\n",
       "              'name': 'X Stabilizer',\n",
       "              'showlegend': False,\n",
       "              'type': 'scatter',\n",
       "              'uid': 'd48581e7-72ae-4ad2-a034-3b0d3897abab',\n",
       "              'x': [7, 7, 9, 9, 7],\n",
       "              'y': [7, 5, 5, 7, 7]},\n",
       "             {'fill': 'toself',\n",
       "              'fillcolor': '#d3d1c0',\n",
       "              'hovertemplate': 'X Stabilizer<extra></extra>',\n",
       "              'line': {'color': '#d3d1c0', 'width': 1},\n",
       "              'mode': 'lines',\n",
       "              'name': 'X Stabilizer',\n",
       "              'showlegend': False,\n",
       "              'type': 'scatter',\n",
       "              'uid': '73b1ddde-0b8c-414a-940d-4da84e157975',\n",
       "              'x': [7, 7, 9, 9, 7],\n",
       "              'y': [3, 1, 1, 3, 3]},\n",
       "             {'fill': 'toself',\n",
       "              'fillcolor': '#d3d1c0',\n",
       "              'hovertemplate': 'X Stabilizer<extra></extra>',\n",
       "              'line': {'color': '#d3d1c0', 'width': 1},\n",
       "              'mode': 'lines',\n",
       "              'name': 'X Stabilizer',\n",
       "              'showlegend': False,\n",
       "              'type': 'scatter',\n",
       "              'uid': 'c2f296c7-b55f-4174-b92d-357208507b0e',\n",
       "              'x': [1, 1, 3, 3, 1],\n",
       "              'y': [9, 7, 7, 9, 9]},\n",
       "             {'fill': 'toself',\n",
       "              'fillcolor': '#3ccbda',\n",
       "              'hovertemplate': 'Z Stabilizer<extra></extra>',\n",
       "              'line': {'color': '#3ccbda', 'width': 1},\n",
       "              'mode': 'lines',\n",
       "              'name': 'Z Stabilizer',\n",
       "              'showlegend': False,\n",
       "              'type': 'scatter',\n",
       "              'uid': 'beeaf904-652a-4ffb-b6af-ff1a6e4bf5d7',\n",
       "              'x': [3, 5, 5, 3, 3],\n",
       "              'y': [5, 5, 3, 3, 5]},\n",
       "             {'fill': 'toself',\n",
       "              'fillcolor': '#3ccbda',\n",
       "              'hovertemplate': 'Z Stabilizer<extra></extra>',\n",
       "              'line': {'color': '#3ccbda', 'width': 1},\n",
       "              'mode': 'lines',\n",
       "              'name': 'Z Stabilizer',\n",
       "              'showlegend': False,\n",
       "              'type': 'scatter',\n",
       "              'uid': '28a20f34-84ce-44d1-aaf9-098fb9aadbe7',\n",
       "              'x': [7, 9, 9, 7, 7],\n",
       "              'y': [9, 9, 7, 7, 9]},\n",
       "             {'fill': 'toself',\n",
       "              'fillcolor': '#3ccbda',\n",
       "              'hovertemplate': 'Z Stabilizer<extra></extra>',\n",
       "              'line': {'color': '#3ccbda', 'width': 1},\n",
       "              'mode': 'lines',\n",
       "              'name': 'Z Stabilizer',\n",
       "              'showlegend': False,\n",
       "              'type': 'scatter',\n",
       "              'uid': 'f766c265-7658-4f71-84bb-edce8ef68779',\n",
       "              'x': [5, 7, 7, 5, 5],\n",
       "              'y': [3, 3, 1, 1, 3]},\n",
       "             {'fill': 'toself',\n",
       "              'fillcolor': '#3ccbda',\n",
       "              'hovertemplate': 'Z Stabilizer<extra></extra>',\n",
       "              'line': {'color': '#3ccbda', 'width': 1},\n",
       "              'mode': 'lines',\n",
       "              'name': 'Z Stabilizer',\n",
       "              'showlegend': False,\n",
       "              'type': 'scatter',\n",
       "              'uid': '9913e47a-f2be-4c01-bdb8-843ee520c1fe',\n",
       "              'x': [7, 9, 9, 7, 7],\n",
       "              'y': [5, 5, 3, 3, 5]},\n",
       "             {'fill': 'toself',\n",
       "              'fillcolor': '#3ccbda',\n",
       "              'hovertemplate': 'Z Stabilizer<extra></extra>',\n",
       "              'line': {'color': '#3ccbda', 'width': 1},\n",
       "              'mode': 'lines',\n",
       "              'name': 'Z Stabilizer',\n",
       "              'showlegend': False,\n",
       "              'type': 'scatter',\n",
       "              'uid': '0f509fca-a4d6-4483-b425-aa6969a287f0',\n",
       "              'x': [1, 3, 2, 1],\n",
       "              'y': [9, 9, 10, 9]},\n",
       "             {'fill': 'toself',\n",
       "              'fillcolor': '#3ccbda',\n",
       "              'hovertemplate': 'Z Stabilizer<extra></extra>',\n",
       "              'line': {'color': '#3ccbda', 'width': 1},\n",
       "              'mode': 'lines',\n",
       "              'name': 'Z Stabilizer',\n",
       "              'showlegend': False,\n",
       "              'type': 'scatter',\n",
       "              'uid': '45e9a56a-7db7-4a60-8e7e-dcb6ff826f9c',\n",
       "              'x': [1, 3, 3, 1, 1],\n",
       "              'y': [7, 7, 5, 5, 7]},\n",
       "             {'fill': 'toself',\n",
       "              'fillcolor': '#3ccbda',\n",
       "              'hovertemplate': 'Z Stabilizer<extra></extra>',\n",
       "              'line': {'color': '#3ccbda', 'width': 1},\n",
       "              'mode': 'lines',\n",
       "              'name': 'Z Stabilizer',\n",
       "              'showlegend': False,\n",
       "              'type': 'scatter',\n",
       "              'uid': '11c2797b-9727-4123-9c62-ef26199f13de',\n",
       "              'x': [5, 7, 6, 5],\n",
       "              'y': [9, 9, 10, 9]},\n",
       "             {'fill': 'toself',\n",
       "              'fillcolor': '#3ccbda',\n",
       "              'hovertemplate': 'Z Stabilizer<extra></extra>',\n",
       "              'line': {'color': '#3ccbda', 'width': 1},\n",
       "              'mode': 'lines',\n",
       "              'name': 'Z Stabilizer',\n",
       "              'showlegend': False,\n",
       "              'type': 'scatter',\n",
       "              'uid': '422e08b2-4f6a-48b1-97dd-5e6c72b76c98',\n",
       "              'x': [3, 5, 5, 3, 3],\n",
       "              'y': [9, 9, 7, 7, 9]},\n",
       "             {'fill': 'toself',\n",
       "              'fillcolor': '#3ccbda',\n",
       "              'hovertemplate': 'Z Stabilizer<extra></extra>',\n",
       "              'line': {'color': '#3ccbda', 'width': 1},\n",
       "              'mode': 'lines',\n",
       "              'name': 'Z Stabilizer',\n",
       "              'showlegend': False,\n",
       "              'type': 'scatter',\n",
       "              'uid': '21390925-1e31-48ec-b2a3-9d4d328f53a6',\n",
       "              'x': [1, 3, 3, 1, 1],\n",
       "              'y': [3, 3, 1, 1, 3]},\n",
       "             {'fill': 'toself',\n",
       "              'fillcolor': '#3ccbda',\n",
       "              'hovertemplate': 'Z Stabilizer<extra></extra>',\n",
       "              'line': {'color': '#3ccbda', 'width': 1},\n",
       "              'mode': 'lines',\n",
       "              'name': 'Z Stabilizer',\n",
       "              'showlegend': False,\n",
       "              'type': 'scatter',\n",
       "              'uid': 'eaa45fd5-0272-4b2e-a13d-f04fa53f3dc6',\n",
       "              'x': [5, 7, 7, 5, 5],\n",
       "              'y': [7, 7, 5, 5, 7]},\n",
       "             {'hovertemplate': 'Data Qubit (%{x}, %{y})<br>Click to highlight<extra></extra>',\n",
       "              'marker': {'color': [#006f62, #006f62, #006f62, #006f62, #006f62,\n",
       "                                   #006f62, #006f62, #006f62, #006f62, #006f62,\n",
       "                                   #006f62, #006f62, #006f62, #006f62, #006f62,\n",
       "                                   #006f62, #006f62, #006f62, #006f62, #006f62,\n",
       "                                   #006f62, #006f62, #006f62, #006f62, #006f62],\n",
       "                         'line': {'color': '#006f62', 'width': 1},\n",
       "                         'size': [20, 20, 20, 20, 20, 20, 20, 20, 20, 20, 20, 20,\n",
       "                                  20, 20, 20, 20, 20, 20, 20, 20, 20, 20, 20, 20,\n",
       "                                  20]},\n",
       "              'mode': 'markers',\n",
       "              'name': 'Data Qubits',\n",
       "              'showlegend': True,\n",
       "              'type': 'scatter',\n",
       "              'uid': 'fb0ee548-0b48-4876-94eb-748f739665e5',\n",
       "              'x': [3, 3, 5, 5, 9, 1, 1, 7, 7, 3, 3, 5, 5, 9, 9, 1, 7, 7, 3, 5, 9,\n",
       "                    9, 1, 1, 7],\n",
       "              'y': [1, 7, 1, 7, 5, 3, 9, 1, 7, 3, 9, 3, 9, 1, 7, 5, 3, 9, 5, 5, 3,\n",
       "                    9, 1, 7, 5]},\n",
       "             {'hovertemplate': 'X Ancilla Qubit (%{x}, %{y})<br>Click to highlight<extra></extra>',\n",
       "              'marker': {'color': [#ff7500, #ff7500, #ff7500, #ff7500, #ff7500,\n",
       "                                   #ff7500, #ff7500, #ff7500, #ff7500, #ff7500,\n",
       "                                   #ff7500, #ff7500],\n",
       "                         'line': {'color': '#ff7500', 'width': 1},\n",
       "                         'size': [20, 20, 20, 20, 20, 20, 20, 20, 20, 20, 20, 20]},\n",
       "              'mode': 'markers',\n",
       "              'name': 'X Ancilla Qubits',\n",
       "              'showlegend': True,\n",
       "              'type': 'scatter',\n",
       "              'uid': 'ee8f6890-f21b-4f05-9b33-129f19b12c16',\n",
       "              'x': [2, 10, 10, 6, 4, 6, 4, 0, 0, 8, 8, 2],\n",
       "              'y': [4, 8, 4, 8, 6, 4, 2, 6, 2, 6, 2, 8]},\n",
       "             {'hovertemplate': 'Z Ancilla Qubit (%{x}, %{y})<br>Click to highlight<extra></extra>',\n",
       "              'marker': {'color': [#ff7500, #ff7500, #ff7500, #ff7500, #ff7500,\n",
       "                                   #ff7500, #ff7500, #ff7500, #ff7500, #ff7500,\n",
       "                                   #ff7500, #ff7500],\n",
       "                         'line': {'color': '#ff7500', 'width': 1},\n",
       "                         'size': [20, 20, 20, 20, 20, 20, 20, 20, 20, 20, 20, 20]},\n",
       "              'mode': 'markers',\n",
       "              'name': 'Z Ancilla Qubits',\n",
       "              'showlegend': True,\n",
       "              'type': 'scatter',\n",
       "              'uid': 'b4db864d-71c7-4a40-8c58-7289c895b6b2',\n",
       "              'x': [4, 8, 6, 4, 8, 2, 8, 2, 6, 4, 2, 6],\n",
       "              'y': [4, 8, 2, 0, 4, 10, 0, 6, 10, 8, 2, 6]}],\n",
       "    'layout': {'height': 600,\n",
       "               'hovermode': 'closest',\n",
       "               'legend': {'bgcolor': 'rgba(255,255,255,0.8)', 'bordercolor': 'gray', 'borderwidth': 1, 'x': 1.02, 'y': 1},\n",
       "               'paper_bgcolor': 'white',\n",
       "               'plot_bgcolor': 'white',\n",
       "               'showlegend': False,\n",
       "               'template': '...',\n",
       "               'title': {'font': {'size': 20},\n",
       "                         'text': ('Interactive Planar Code Visual' ... 'qubits to highlight them</sub>')},\n",
       "               'width': 600,\n",
       "               'xaxis': {'gridcolor': 'lightgray',\n",
       "                         'range': [-1, 11],\n",
       "                         'scaleanchor': 'y',\n",
       "                         'scaleratio': 1,\n",
       "                         'showgrid': True,\n",
       "                         'title': {'text': 'X Coordinate'}},\n",
       "               'yaxis': {'gridcolor': 'lightgray',\n",
       "                         'range': [-1, 11],\n",
       "                         'showgrid': True,\n",
       "                         'title': {'text': 'Y Coordinate'}}}\n",
       "})"
      ]
     },
     "execution_count": 11,
     "metadata": {},
     "output_type": "execute_result"
    }
   ],
   "source": [
    "rp_code = RotatedPlanarCode(width=5, height=5)\n",
    "draw_patch(rp_code)"
   ]
  },
  {
   "cell_type": "markdown",
   "id": "15ab499e-9748-4221-8086-bed93b534cc1",
   "metadata": {},
   "source": [
    "By linking this widget with a `CircuitWidget`, we can create an clickable surface code patch with a linked circuit visualization. Clicking a qubit on the interactive graph changes the Pauli error present at that qubit on the circuit diagram (with errors automatically propagating through the circuit):"
   ]
  },
  {
   "cell_type": "code",
   "execution_count": 12,
   "id": "9e4c03af",
   "metadata": {},
   "outputs": [
    {
     "data": {
      "application/vnd.jupyter.widget-view+json": {
       "model_id": "369ca4db626747a695754363d9ffe25d",
       "version_major": 2,
       "version_minor": 0
      },
      "text/plain": [
       "InteractivePlanarCode(children=(FigureWidget({\n",
       "    'data': [{'fill': 'toself',\n",
       "              'fillcolor': '#d3…"
      ]
     },
     "execution_count": 12,
     "metadata": {},
     "output_type": "execute_result"
    }
   ],
   "source": [
    "# Returns the qubit at the specifed qubit coord in stim_circuit (-1 if not found)\n",
    "def lookupQubitFromCoord(stim_circuit: stim.Circuit, target_coord: list[int, int]) -> int:\n",
    "  coords = list(stim_circuit.get_final_qubit_coordinates().items())\n",
    "  for idx, coord in coords:\n",
    "    if coord == target_coord:\n",
    "      return idx\n",
    "  return -1\n",
    "\n",
    "# Takes a map of qubit coords to Pauli errors and applies them at the start of the given stim circuit.\n",
    "# Returns the resulting stim circuit (str).\n",
    "def circuitWithPaulisAt(stim_circuit: stim.Circuit, active_paulis: dict[tuple[int, int], str]) -> str:\n",
    "  stim_str = str(stim_circuit)\n",
    "\n",
    "  err_circuit = \"\".join([\n",
    "    f\"#!pragma MARK{pauli.upper()}(0) {lookupQubitFromCoord(stim_circuit, list(coord))}\\n\" for coord, pauli in active_paulis.items()\n",
    "  ]) + stim_str\n",
    "  return err_circuit\n",
    "\n",
    "# Given a circuit, CircuitWidget, dict of active paulis, and a new point, cycle the Pauli error at that point (X->Y->Z->none->X->...).\n",
    "# Updates the given circuit_widg's .stim to reflect original_circuit with the updated Paulis.\n",
    "def updateCicruitPaulis(points: Points, original_circuit: stim.Circuit, circuit_widg: CircuitWidget, active_paulis: dict[tuple[int, int], str]) -> None:\n",
    "  xs = points.xs\n",
    "  ys = points.ys\n",
    "\n",
    "  if not xs or not ys or len(xs) != len(ys):\n",
    "    return\n",
    "    \n",
    "  for point in zip(xs, ys):\n",
    "    if point in active_paulis:\n",
    "      if active_paulis[point] == \"Z\": # Z->none\n",
    "        del active_paulis[point]\n",
    "      else:\n",
    "        active_paulis[point] = chr(ord(active_paulis[point]) + 1)\n",
    "    else: # none->X\n",
    "      active_paulis[point] = \"X\"\n",
    "\n",
    "  circuit_widg.stim = circuitWithPaulisAt(original_circuit, active_paulis)\n",
    "\n",
    "# An planar code visualizer widget containing a plotly and crumpy visualization\n",
    "class InteractivePlanarCode(ipywidgets.HBox):\n",
    "    def __init__(self, planar_code: RotatedPlanarCode | UnrotatedPlanarCode):\n",
    "        super().__init__(\n",
    "            layout=ipywidgets.Layout(\n",
    "                justify_content=\"center\",\n",
    "                align_items=\"flex-start\",\n",
    "                width=\"auto\",\n",
    "            )\n",
    "        )\n",
    "        self.plot_widg = None\n",
    "        self.circuit_widg = None\n",
    "\n",
    "        self.set_planar_code(planar_code)\n",
    "\n",
    "    def set_planar_code(self, planar_code: RotatedPlanarCode | UnrotatedPlanarCode):\n",
    "        # Create planar code memory circuit\n",
    "        deltakit_circuit = css_code_memory_circuit(\n",
    "            css_code=planar_code,\n",
    "            num_rounds=1,\n",
    "            logical_basis=PauliBasis.Z,\n",
    "        )\n",
    "\n",
    "        # Strip detectors/observables for cleaner circuit visual\n",
    "        deltakit_circuit = Circuit([\n",
    "            layer for layer in deltakit_circuit.layers \n",
    "            if isinstance(layer, GateLayer)\n",
    "        ])\n",
    "\n",
    "        # Create CircuitWidget from the circuit\n",
    "        stim_circuit = deltakit_circuit.as_stim_circuit()\n",
    "        if self.circuit_widg is None:\n",
    "            self.circuit_widg = CircuitWidget.from_stim(stim_circuit)\n",
    "            self.circuit_widg.layout.max_height = \"650px\"\n",
    "            self.circuit_widg.layout.max_width = \"650px\"\n",
    "            self.circuit_widg.layout.overflow = \"auto\"\n",
    "        else:\n",
    "            self.circuit_widg.stim = str(stim_circuit)\n",
    "\n",
    "        # Register click callback\n",
    "        active_paulis = {}\n",
    "        def qubitClickCallback(points: Points):\n",
    "            updateCicruitPaulis(points, stim_circuit, self.circuit_widg, active_paulis)\n",
    "\n",
    "        # Draw interactive patch\n",
    "        unrotated_code = isinstance(planar_code, UnrotatedPlanarCode)\n",
    "        if self.plot_widg is None:\n",
    "            self.plot_widg = draw_patch(\n",
    "                planar_code,\n",
    "                qubitClickCallback,\n",
    "                qubitClickCallback,\n",
    "                unrotated_code=unrotated_code,\n",
    "            )\n",
    "        else:\n",
    "            update_patch(\n",
    "                planar_code,\n",
    "                self.plot_widg,\n",
    "                qubitClickCallback,\n",
    "                qubitClickCallback,\n",
    "                unrotated_code=unrotated_code,\n",
    "            )\n",
    "\n",
    "        # Replace children\n",
    "        if not self.children:\n",
    "            self.children = [self.plot_widg, self.circuit_widg]\n",
    "\n",
    "ipc = InteractivePlanarCode(getPlanarCode(True, 3, 3))\n",
    "ipc"
   ]
  },
  {
   "cell_type": "markdown",
   "id": "c50e65dd-4005-4554-92c3-c402d8b2bab2",
   "metadata": {},
   "source": [
    "Finally, we can add the width slider, height slider, and rotation checkbox used previously to vary the planar code parameters:"
   ]
  },
  {
   "cell_type": "code",
   "execution_count": 13,
   "id": "ddaa0a0d-3f76-4e0c-8260-b25961dbced4",
   "metadata": {},
   "outputs": [
    {
     "data": {
      "application/vnd.jupyter.widget-view+json": {
       "model_id": "f254fa0d344b4ac7b80e1debf25539d8",
       "version_major": 2,
       "version_minor": 0
      },
      "text/plain": [
       "VBox(children=(Checkbox(value=True, description='Rotated?'), SliderWithButtons(children=(HBox(children=(Button…"
      ]
     },
     "execution_count": 13,
     "metadata": {},
     "output_type": "execute_result"
    }
   ],
   "source": [
    "# Planar code config + interactive planar code widgets\n",
    "w_slider_interact = WSlider()\n",
    "h_slider_interact = HSlider()\n",
    "checkbox_interact = Checkbox()\n",
    "ipc_with_sliders = InteractivePlanarCode(getPlanarCode(True, 2, 2))\n",
    "\n",
    "# Change events only fire on release of slider\n",
    "w_slider_interact.slider.continuous_update = False\n",
    "h_slider_interact.slider.continuous_update = False\n",
    "\n",
    "# Register callbacks on config sliders that update the current planar code viz\n",
    "interact_callback = lambda _=None: ipc_with_sliders.set_planar_code(getPlanarCode(is_rotated=checkbox_interact.value, w=w_slider_interact.value, h=h_slider_interact.value))\n",
    "w_slider_interact.observe(interact_callback, names=\"value\")\n",
    "h_slider_interact.observe(interact_callback, names=\"value\")\n",
    "checkbox_interact.observe(interact_callback, names=\"value\")\n",
    "\n",
    "interact_callback()\n",
    "\n",
    "ipywidgets.VBox([checkbox_interact, w_slider_interact, h_slider_interact, ipc_with_sliders], layout=ipywidgets.Layout(align_items=\"center\"))"
   ]
  }
 ],
 "metadata": {
  "kernelspec": {
   "display_name": "Python 3 (ipykernel)",
   "language": "python",
   "name": "python3"
  },
  "language_info": {
   "codemirror_mode": {
    "name": "ipython",
    "version": 3
   },
   "file_extension": ".py",
   "mimetype": "text/x-python",
   "name": "python",
   "nbconvert_exporter": "python",
   "pygments_lexer": "ipython3",
   "version": "3.11.2"
  }
 },
 "nbformat": 4,
 "nbformat_minor": 5
}
