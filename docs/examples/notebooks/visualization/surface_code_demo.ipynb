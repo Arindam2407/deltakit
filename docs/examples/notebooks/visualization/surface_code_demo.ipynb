{
 "cells": [
  {
   "cell_type": "markdown",
   "id": "8112ffee",
   "metadata": {},
   "source": [
    "# Interactive Surface Codes with `deltakit` and `crumpy`\n",
    "\n",
    "In this notebook, we show how `deltakit` can be used to generate surface code memory experiments and various ways in which visualization packages like [`crumpy`](https://pypi.org/project/crumpy/) and [`plotly`](https://pypi.org/project/plotly/) can be used to create interactive interfaces for surface code exploration. We show examples of generating planar codes with `deltakit.explorer.codes`, how to interactively visualize surface code experiment circuits with `crumpy` and `plotly`, and how to add Pauli error markers to those generated circuits to explore the error-detecting capabilities of surface codes.\n",
    "\n",
    "## Required Imports"
   ]
  },
  {
   "cell_type": "code",
   "execution_count": null,
   "id": "6b9a8078-23b0-4062-a951-bd96208e82ad",
   "metadata": {},
   "outputs": [],
   "source": [
    "from deltakit.explorer.codes import RotatedPlanarCode, UnrotatedPlanarCode, css_code_memory_circuit\n",
    "from deltakit.circuit import GateLayer, Circuit\n",
    "from deltakit.circuit.gates import PauliBasis\n",
    "from crumpy import CircuitWidget\n",
    "from snippet import draw_patch, update_patch\n",
    "from plotly.callbacks import Points\n",
    "\n",
    "import ipywidgets\n",
    "import stim\n",
    "import traitlets"
   ]
  },
  {
   "cell_type": "markdown",
   "id": "e7aec500-fa32-45fc-bad7-77982a215348",
   "metadata": {},
   "source": [
    "## Using `deltakit` with `crumpy`\n",
    "\n",
    "To start, let's generate and visualize a 2 x 2 `RotatedPlanarCode` with `deltakit.explorer.codes`. The following will output a static image of a 2 x 2 rotated planar code patch (we'll come back to a similar visualization with more interactivity later):"
   ]
  },
  {
   "cell_type": "code",
   "execution_count": null,
   "id": "48628ed2",
   "metadata": {},
   "outputs": [],
   "source": [
    "# Generate a deltakit planar code with the given width and height\n",
    "def getPlanarCode(is_rotated: bool, w: int, h: int) -> RotatedPlanarCode | UnrotatedPlanarCode:\n",
    "    return RotatedPlanarCode(width=w, height=h) if is_rotated else UnrotatedPlanarCode(width=w, height=h)\n",
    "\n",
    "# Creates a visual representation of the given planar code, saving it to ./images/ and returning a viewable widget\n",
    "def savePlanarCodeImage(code: RotatedPlanarCode | UnrotatedPlanarCode) -> ipywidgets.Image:\n",
    "    filename = f\"./images/{'u' if isinstance(code, UnrotatedPlanarCode) else ''}rpc_{code.width}x{code.height}.png\"\n",
    "    code.draw_patch(filename)\n",
    "\n",
    "    file = open(filename, \"rb\")\n",
    "    image = file.read()\n",
    "    image_widg = ipywidgets.Image(\n",
    "        value=image,\n",
    "        format=\"png\",\n",
    "        width=500\n",
    "    )\n",
    "    return image_widg\n",
    "\n",
    "code = getPlanarCode(is_rotated=True, w=2, h=2)\n",
    "img = savePlanarCodeImage(code)\n",
    "img"
   ]
  },
  {
   "cell_type": "markdown",
   "id": "50eede9d",
   "metadata": {},
   "source": [
    "With our 2 x 2 `RotatedPlanarCode`, we can create a memory experiment circuit using `css_code_memory_circuit`:"
   ]
  },
  {
   "cell_type": "code",
   "execution_count": null,
   "id": "735d2960",
   "metadata": {},
   "outputs": [],
   "source": [
    "deltakit_circuit = css_code_memory_circuit(code, num_rounds=1, logical_basis=PauliBasis.Z)\n",
    "deltakit_circuit"
   ]
  },
  {
   "cell_type": "markdown",
   "id": "75ad4f28",
   "metadata": {},
   "source": [
    "To visualize this circuit with `crumpy`'s `CircuitWidget`, we first convert our `deltakit` circuit to a `stim` circuit:"
   ]
  },
  {
   "cell_type": "code",
   "execution_count": null,
   "id": "b772e6ee",
   "metadata": {},
   "outputs": [],
   "source": [
    "stim_circuit = deltakit_circuit.as_stim_circuit()\n",
    "stim_circuit"
   ]
  },
  {
   "cell_type": "markdown",
   "id": "b44ece61",
   "metadata": {},
   "source": [
    "`stim.Circuit`s can be displayed directly with `CircuitWidget.from_stim`. The `CircuitWidget` below displays a circuit timeline representation of our circuit. This includes the gates that make up the circuit (e.g., resets, CNOTs, measurements) as well as additional annotations for detector (small dots) and observable regions (large dots):"
   ]
  },
  {
   "cell_type": "code",
   "execution_count": null,
   "id": "b66d9806",
   "metadata": {},
   "outputs": [],
   "source": [
    "CircuitWidget.from_stim(stim_circuit)"
   ]
  },
  {
   "cell_type": "markdown",
   "id": "9d500763",
   "metadata": {},
   "source": [
    "Let's streamline this process of generating `stim` from a planar code specification. `stimSurfaceCode` lets us generate a (`crumpy`-compatible) `stim` circuit for a rotated/unrotated planar code with a given `w` and `h`. We also strip away any non-gate layers (which gets rid of the detector and observable dots) to reduce visual clutter:"
   ]
  },
  {
   "cell_type": "code",
   "execution_count": null,
   "id": "edd3ca03",
   "metadata": {},
   "outputs": [],
   "source": [
    "# Generates a stim.Circuit representing a memory experiment on a planar code\n",
    "def stimSurfaceCode(is_rotated: bool, w: int, h: int) -> stim.Circuit:\n",
    "    code = getPlanarCode(is_rotated, w, h)\n",
    "    circuit = css_code_memory_circuit(code, num_rounds=1, logical_basis=PauliBasis.Z)\n",
    "    circuit = Circuit([\n",
    "            layer for layer in circuit.layers \n",
    "            if isinstance(layer, GateLayer)\n",
    "        ])\n",
    "    return circuit.as_stim_circuit()\n",
    "\n",
    "stim_circuit = stimSurfaceCode(True, 3, 3)\n",
    "CircuitWidget.from_stim(stim_circuit)"
   ]
  },
  {
   "cell_type": "markdown",
   "id": "3e6ec839",
   "metadata": {},
   "source": [
    "Now that we have a way to easily generate the `stim` circuit for a planar code memory experiment, we can make things more interactive with some control widgets (from `ipywidgets`). Let's add some sliders that vary the width and height of the planar code we use, and a checkbox for `UnrotatedPlanarCode` or `RotatedPlanarCode`:"
   ]
  },
  {
   "cell_type": "code",
   "execution_count": null,
   "id": "98f509a6",
   "metadata": {},
   "outputs": [],
   "source": [
    "# An ipywidgets.IntSlider with with '+' and '-' buttons at the ends\n",
    "class SliderWithButtons(ipywidgets.Box):\n",
    "    value = traitlets.Int()\n",
    "\n",
    "    def __init__(self, description: str=\"Value\", value: int=0, min: int=0, max: int=10, step: int=1, orientation: str=\"horizontal\", readout: bool=True):\n",
    "        # Internal widgets\n",
    "        self.slider = ipywidgets.IntSlider(\n",
    "            description=description,\n",
    "            value=value,\n",
    "            min=min,\n",
    "            max=max,\n",
    "            step=step,\n",
    "            orientation=orientation,\n",
    "            readout=readout,\n",
    "            style={\"description_width\": \"60px\"}\n",
    "        )\n",
    "        self.minus = ipywidgets.Button(description=\"–\", layout=ipywidgets.Layout(width=\"30px\"))\n",
    "        self.plus = ipywidgets.Button(description=\"+\", layout=ipywidgets.Layout(width=\"30px\"))\n",
    "\n",
    "        # Arrange children\n",
    "        if orientation == \"vertical\":\n",
    "            container = ipywidgets.VBox([self.plus, self.slider, self.minus], layout=ipywidgets.Layout(align_items=\"center\"))\n",
    "        else:\n",
    "            container = ipywidgets.HBox([self.minus, self.slider, self.plus])\n",
    "        super().__init__(children=[container])\n",
    "\n",
    "        # Link .value trait\n",
    "        ipywidgets.link((self.slider, \"value\"), (self, \"value\"))\n",
    "\n",
    "        # Button click events\n",
    "        self.plus.on_click(self._on_plus)\n",
    "        self.minus.on_click(self._on_minus)\n",
    "\n",
    "    def _on_plus(self, _):\n",
    "        if self.slider.value < self.slider.max:\n",
    "            self.slider.value += self.slider.step\n",
    "\n",
    "    def _on_minus(self, _):\n",
    "        if self.slider.value > self.slider.min:\n",
    "            self.slider.value -= self.slider.step\n",
    "\n",
    "# Helpers for creating planar code config widgets (these will be reused later)\n",
    "def WSlider():\n",
    "    return SliderWithButtons(description=\"Width\", value=3, min=2, max=5)\n",
    "def HSlider():\n",
    "    return SliderWithButtons(description=\"Height\", value=3, min=2, max=5)\n",
    "def Checkbox():\n",
    "    return ipywidgets.Checkbox(\n",
    "        value=True,\n",
    "        description=\"Rotated?\",\n",
    "        disabled=False,\n",
    "    )\n",
    "\n",
    "# Create planar code config widgets + circuit widget\n",
    "w_slider = WSlider()\n",
    "h_slider = HSlider()\n",
    "checkbox = Checkbox()\n",
    "dynamic_circuit = CircuitWidget()\n",
    "\n",
    "# Link config widgets to the circuit\n",
    "dynamic_circuit_callback = lambda _: str(stimSurfaceCode(checkbox.value, w_slider.value, h_slider.value))\n",
    "ipywidgets.dlink((w_slider, \"value\"), (dynamic_circuit, \"stim\"), dynamic_circuit_callback)\n",
    "ipywidgets.dlink((h_slider, \"value\"), (dynamic_circuit, \"stim\"), dynamic_circuit_callback)\n",
    "ipywidgets.dlink((checkbox, \"value\"), (dynamic_circuit, \"stim\"), dynamic_circuit_callback)\n",
    "\n",
    "display(ipywidgets.Label(\"Planar code settings:\"), checkbox, w_slider, h_slider, dynamic_circuit)"
   ]
  },
  {
   "cell_type": "markdown",
   "id": "ea79dc06",
   "metadata": {},
   "source": [
    "## Pauli Propagation"
   ]
  },
  {
   "cell_type": "markdown",
   "id": "5b9f24c4",
   "metadata": {},
   "source": [
    "Using our `stimSurfaceCode` circuit generation function, let's explore another feature of `crumpy` and add a Pauli marker to a circuit.\n",
    "\n",
    "A Pauli marker represents a Pauli operation (X, Y, or Z) applied at a point in time along a circuit. With `crumpy`, these markers are automatically tracked and propagated through a circuit. The tracking and propagating of Pauli markers can be used to see how errors propagate through the circuit, but more generally, Pauli markers show the flow of information through a circuit (e.g., how your knowledge of a qubit's state after a reset evolves over the course of the circuit).\n",
    "\n",
    "In this example, we add a red Pauli X marker (the colors `RGB` correspond to Paulis `XYZ`) to the qubit at coordinates (1, 3) at the start of the circuit. Since there is a reset on qubit (1, 3) at the start of the circuit, this Pauli marker is placed on top of that reset gate. Thinking of this in terms of errors, this could be thought of as a Pauli X error caused by that reset, resulting in a bit-flipped version of qubit (1, 3) after the reset:"
   ]
  },
  {
   "cell_type": "code",
   "execution_count": null,
   "id": "3434bb83",
   "metadata": {},
   "outputs": [],
   "source": [
    "# Prepend a Pauli X marker on qubit 0 (based on the generated stim's qubit coords, idx 0 is (1, 3))\n",
    "stim_str_with_pauli = \"#!pragma MARKX(0) 0\\n\" + str(stimSurfaceCode(True, 2, 2))\n",
    "\n",
    "CircuitWidget(stim=stim_str_with_pauli)"
   ]
  },
  {
   "cell_type": "markdown",
   "id": "856bf3cc",
   "metadata": {},
   "source": [
    "We can add some interactivity with a slider (to change which qubit line the Pauli marker/error is on) and some radio buttons (to select the Pauli type):"
   ]
  },
  {
   "cell_type": "code",
   "execution_count": null,
   "id": "b664bc2b",
   "metadata": {},
   "outputs": [],
   "source": [
    "# Error slider and radio buttons\n",
    "def PauliSlider():\n",
    "    return SliderWithButtons(description=\"\", value=3, min=0, orientation=\"vertical\", readout=False)\n",
    "def PauliSelect():\n",
    "    return ipywidgets.RadioButtons(\n",
    "        options=[\"X\", \"Y\", \"Z\", \"none\"],\n",
    "        default=\"X\",\n",
    "        description=\"Pauli error:\",\n",
    "        disabled=False\n",
    "    )\n",
    "\n",
    "# Returns a stim circuit with a specified Pauli err marker added at the front\n",
    "# (on the idx-th circuit line from bottom, based on the qubit coords defined in stim_circuit)\n",
    "def circuitWithError(stim_circuit: stim.Circuit, err: str, idx: int) -> str:\n",
    "    coords = list(stim_circuit.get_final_qubit_coordinates().items())\n",
    "    \n",
    "    # Sort qubits by coords in circuit line order (bottom to top on viz, for easy slider use)\n",
    "    coords.sort(key=lambda pair: (-pair[1][1], -pair[1][0]))\n",
    "    \n",
    "    return (\"\" if err == \"none\" else f\"#!pragma MARK{err}(0) {coords[min(idx, len(coords) - 1)][0]}\\n\") + str(stim_circuit)\n",
    "\n",
    "# Update a slider's max value and color based on given Pauli err and num_lines in the circuit\n",
    "def updatePauliSlider(slider_w_buttons: SliderWithButtons, err: str, num_lines: int) -> None:\n",
    "    legend = {\n",
    "        \"X\":\"red\",\n",
    "        \"Y\":\"green\",\n",
    "        \"Z\":\"blue\",\n",
    "        \"none\":\"black\"\n",
    "    }\n",
    "    slider_w_buttons.slider.style.handle_color = legend[err]\n",
    "\n",
    "    slider_w_buttons.slider.max = num_lines - 1\n",
    "\n",
    "# Returns a 2x2 rotated surface code (as a stim str), with the given Pauli err on the idx-th circuit line (from bottom)\n",
    "def updateErrorCircuit(slider_w_buttons: SliderWithButtons, err: str, idx: int) -> str:\n",
    "    stim_circuit = stimSurfaceCode(True, 2, 2)\n",
    "    updatePauliSlider(slider_w_buttons, err, len(stim_circuit.get_final_qubit_coordinates()))\n",
    "    return circuitWithError(stim_circuit, err, idx)\n",
    "\n",
    "# Create error config widgets + circuit widget\n",
    "pauli_slider = PauliSlider()\n",
    "pauli_select = PauliSelect()\n",
    "circuit_with_error = CircuitWidget()\n",
    "\n",
    "# Link error slider and selector to circuit\n",
    "circuit_with_error_callback = lambda _: updateErrorCircuit(pauli_slider, pauli_select.value, pauli_slider.value)\n",
    "ipywidgets.dlink((pauli_select, \"value\"), (circuit_with_error, \"stim\"), circuit_with_error_callback)\n",
    "ipywidgets.dlink((pauli_slider, \"value\"), (circuit_with_error, \"stim\"), circuit_with_error_callback)\n",
    "\n",
    "ipywidgets.HBox([circuit_with_error, pauli_slider, pauli_select])"
   ]
  },
  {
   "cell_type": "markdown",
   "id": "aa795f3c",
   "metadata": {},
   "source": [
    "## Exploring Surface Codes\n",
    "\n",
    "Combining what we've done in the previous sections, we can create a single interactive output with planar code controls *and* Pauli error controls:"
   ]
  },
  {
   "cell_type": "code",
   "execution_count": null,
   "id": "389561c5",
   "metadata": {},
   "outputs": [],
   "source": [
    "# Creates a planar code memory experiment circuit with the given is_rotated, width, and height parameters\n",
    "# that has the given Pauli err marker on the idx-th circuit line (from bottom)\n",
    "def finalCircuit(slider_w_buttons: SliderWithButtons, is_rotated: bool, w: int, h: int, err: str, idx: int) -> str:\n",
    "    stim_circuit = stimSurfaceCode(is_rotated, w, h)\n",
    "    updatePauliSlider(slider_w_buttons, err, len(stim_circuit.get_final_qubit_coordinates()))\n",
    "    return circuitWithError(stim_circuit, err, idx)\n",
    "\n",
    "# Planar code config widgets + pauli error config widgets + a circuit widget\n",
    "final_circuit = CircuitWidget()\n",
    "final_pauli_slider = PauliSlider()\n",
    "final_pauli_select = PauliSelect()\n",
    "final_w_slider = WSlider()\n",
    "final_h_slider = HSlider()\n",
    "final_checkbox = Checkbox()\n",
    "\n",
    "# Link all of the config widgets to the circuit widget\n",
    "final_callback = lambda _: finalCircuit(slider_w_buttons=final_pauli_slider, is_rotated=final_checkbox.value, w=final_w_slider.value, h=final_h_slider.value, err=final_pauli_select.value, idx=final_pauli_slider.value)\n",
    "ipywidgets.dlink((final_pauli_select, \"value\"), (final_circuit, \"stim\"), final_callback)\n",
    "ipywidgets.dlink((final_pauli_slider, \"value\"), (final_circuit, \"stim\"), final_callback)\n",
    "ipywidgets.dlink((final_w_slider, \"value\"), (final_circuit, \"stim\"), final_callback)\n",
    "ipywidgets.dlink((final_h_slider, \"value\"), (final_circuit, \"stim\"), final_callback)\n",
    "ipywidgets.dlink((final_checkbox, \"value\"), (final_circuit, \"stim\"), final_callback)\n",
    "\n",
    "display(ipywidgets.Label(\"Planar code settings:\"), final_checkbox, final_w_slider, final_h_slider, ipywidgets.HBox([final_circuit, final_pauli_slider, final_pauli_select]))"
   ]
  },
  {
   "cell_type": "markdown",
   "id": "79cc07b2",
   "metadata": {},
   "source": [
    "### Interactivity with `plotly`\n",
    "\n",
    "Let's explore another interactive visualization. `draw_patch` uses `plotly` to visualize a patch of a given surface code, similar to the static visualization at the beginning of this notebook. Clicking on qubits on the interactive plot will also cycle between Pauli errors on that qubits (none → Pauli X (red) → Pauli Y (green) → Pauli Z (blue)):"
   ]
  },
  {
   "cell_type": "code",
   "execution_count": null,
   "id": "f221ef20",
   "metadata": {},
   "outputs": [],
   "source": [
    "rp_code = RotatedPlanarCode(width=5, height=5)\n",
    "draw_patch(rp_code)"
   ]
  },
  {
   "cell_type": "markdown",
   "id": "15ab499e-9748-4221-8086-bed93b534cc1",
   "metadata": {},
   "source": [
    "By linking this widget with a `CircuitWidget`, we can create an clickable surface code patch with a linked circuit visualization. Clicking a qubit on the interactive graph changes the Pauli error present at that qubit on the circuit diagram (with errors automatically propagating through the circuit):"
   ]
  },
  {
   "cell_type": "code",
   "execution_count": null,
   "id": "9e4c03af",
   "metadata": {},
   "outputs": [],
   "source": [
    "# Returns the qubit at the specified qubit coord in stim_circuit (-1 if not found)\n",
    "def lookupQubitFromCoord(stim_circuit: stim.Circuit, target_coord: list[int, int]) -> int:\n",
    "  coords = list(stim_circuit.get_final_qubit_coordinates().items())\n",
    "  for idx, coord in coords:\n",
    "    if coord == target_coord:\n",
    "      return idx\n",
    "  return -1\n",
    "\n",
    "# Takes a map of qubit coords to Pauli errors and applies them at the start of the given stim circuit.\n",
    "# Returns the resulting stim circuit (str).\n",
    "def circuitWithPaulisAt(stim_circuit: stim.Circuit, active_paulis: dict[tuple[int, int], str]) -> str:\n",
    "  stim_str = str(stim_circuit)\n",
    "\n",
    "  err_circuit = \"\".join([\n",
    "    f\"#!pragma MARK{pauli.upper()}(0) {lookupQubitFromCoord(stim_circuit, list(coord))}\\n\" for coord, pauli in active_paulis.items()\n",
    "  ]) + stim_str\n",
    "  return err_circuit\n",
    "\n",
    "# Given a circuit, CircuitWidget, dict of active paulis, and a new point, cycle the Pauli error at that point (X->Y->Z->none->X->...).\n",
    "# Updates the given circuit_widg's .stim to reflect original_circuit with the updated Paulis.\n",
    "def updateCircuitPaulis(points: Points, original_circuit: stim.Circuit, circuit_widg: CircuitWidget, active_paulis: dict[tuple[int, int], str]) -> None:\n",
    "  xs = points.xs\n",
    "  ys = points.ys\n",
    "\n",
    "  if not xs or not ys or len(xs) != len(ys):\n",
    "    return\n",
    "    \n",
    "  for point in zip(xs, ys):\n",
    "    if point in active_paulis:\n",
    "      if active_paulis[point] == \"Z\": # Z->none\n",
    "        del active_paulis[point]\n",
    "      else:\n",
    "        active_paulis[point] = chr(ord(active_paulis[point]) + 1)\n",
    "    else: # none->X\n",
    "      active_paulis[point] = \"X\"\n",
    "\n",
    "  circuit_widg.stim = circuitWithPaulisAt(original_circuit, active_paulis)\n",
    "\n",
    "# An planar code visualizer widget containing a plotly and crumpy visualization\n",
    "class InteractivePlanarCode(ipywidgets.HBox):\n",
    "    def __init__(self, planar_code: RotatedPlanarCode | UnrotatedPlanarCode):\n",
    "        super().__init__(\n",
    "            layout=ipywidgets.Layout(\n",
    "                justify_content=\"center\",\n",
    "                align_items=\"flex-start\",\n",
    "                width=\"auto\",\n",
    "            )\n",
    "        )\n",
    "        self.plot_widg = None\n",
    "        self.circuit_widg = None\n",
    "\n",
    "        self.set_planar_code(planar_code)\n",
    "\n",
    "    def set_planar_code(self, planar_code: RotatedPlanarCode | UnrotatedPlanarCode):\n",
    "        # Create planar code memory circuit\n",
    "        deltakit_circuit = css_code_memory_circuit(\n",
    "            css_code=planar_code,\n",
    "            num_rounds=1,\n",
    "            logical_basis=PauliBasis.Z,\n",
    "        )\n",
    "\n",
    "        # Strip detectors/observables for cleaner circuit visual\n",
    "        deltakit_circuit = Circuit([\n",
    "            layer for layer in deltakit_circuit.layers \n",
    "            if isinstance(layer, GateLayer)\n",
    "        ])\n",
    "\n",
    "        # Create CircuitWidget from the circuit\n",
    "        stim_circuit = deltakit_circuit.as_stim_circuit()\n",
    "        if self.circuit_widg is None:\n",
    "            self.circuit_widg = CircuitWidget.from_stim(stim_circuit)\n",
    "            self.circuit_widg.layout.max_height = \"650px\"\n",
    "            self.circuit_widg.layout.max_width = \"650px\"\n",
    "            self.circuit_widg.layout.overflow = \"auto\"\n",
    "        else:\n",
    "            self.circuit_widg.stim = str(stim_circuit)\n",
    "\n",
    "        # Register click callback\n",
    "        active_paulis = {}\n",
    "        def qubitClickCallback(points: Points):\n",
    "            updateCircuitPaulis(points, stim_circuit, self.circuit_widg, active_paulis)\n",
    "\n",
    "        # Draw interactive patch\n",
    "        unrotated_code = isinstance(planar_code, UnrotatedPlanarCode)\n",
    "        if self.plot_widg is None:\n",
    "            self.plot_widg = draw_patch(\n",
    "                planar_code,\n",
    "                qubitClickCallback,\n",
    "                qubitClickCallback,\n",
    "                unrotated_code=unrotated_code,\n",
    "            )\n",
    "        else:\n",
    "            update_patch(\n",
    "                planar_code,\n",
    "                self.plot_widg,\n",
    "                qubitClickCallback,\n",
    "                qubitClickCallback,\n",
    "                unrotated_code=unrotated_code,\n",
    "            )\n",
    "\n",
    "        # Replace children\n",
    "        if not self.children:\n",
    "            self.children = [self.plot_widg, self.circuit_widg]\n",
    "\n",
    "ipc = InteractivePlanarCode(getPlanarCode(True, 3, 3))\n",
    "ipc"
   ]
  },
  {
   "cell_type": "markdown",
   "id": "c50e65dd-4005-4554-92c3-c402d8b2bab2",
   "metadata": {},
   "source": [
    "Finally, we can add the width slider, height slider, and rotation checkbox used previously to vary the planar code parameters:"
   ]
  },
  {
   "cell_type": "code",
   "execution_count": null,
   "id": "ddaa0a0d-3f76-4e0c-8260-b25961dbced4",
   "metadata": {},
   "outputs": [],
   "source": [
    "# Planar code config + interactive planar code widgets\n",
    "w_slider_interact = WSlider()\n",
    "h_slider_interact = HSlider()\n",
    "checkbox_interact = Checkbox()\n",
    "ipc_with_sliders = InteractivePlanarCode(getPlanarCode(True, 2, 2))\n",
    "\n",
    "# Change events only fire on release of slider\n",
    "w_slider_interact.slider.continuous_update = False\n",
    "h_slider_interact.slider.continuous_update = False\n",
    "\n",
    "# Register callbacks on config sliders that update the current planar code viz\n",
    "interact_callback = lambda _=None: ipc_with_sliders.set_planar_code(getPlanarCode(is_rotated=checkbox_interact.value, w=w_slider_interact.value, h=h_slider_interact.value))\n",
    "w_slider_interact.observe(interact_callback, names=\"value\")\n",
    "h_slider_interact.observe(interact_callback, names=\"value\")\n",
    "checkbox_interact.observe(interact_callback, names=\"value\")\n",
    "\n",
    "interact_callback()\n",
    "\n",
    "ipywidgets.VBox([checkbox_interact, w_slider_interact, h_slider_interact, ipc_with_sliders], layout=ipywidgets.Layout(align_items=\"center\"))"
   ]
  }
 ],
 "metadata": {
  "kernelspec": {
   "display_name": "Python 3 (ipykernel)",
   "language": "python",
   "name": "python3"
  },
  "language_info": {
   "codemirror_mode": {
    "name": "ipython",
    "version": 3
   },
   "file_extension": ".py",
   "mimetype": "text/x-python",
   "name": "python",
   "nbconvert_exporter": "python",
   "pygments_lexer": "ipython3",
   "version": "3.11.2"
  }
 },
 "nbformat": 4,
 "nbformat_minor": 5
}
